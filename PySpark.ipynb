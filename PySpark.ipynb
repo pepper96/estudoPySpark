{
 "cells": [
  {
   "cell_type": "markdown",
   "metadata": {},
   "source": [
    "# PySpark\n",
    "\n",
    "<p> Projeto de estudo em PySpark, executando o Vscode no ambiente WSL."
   ]
  },
  {
   "cell_type": "markdown",
   "metadata": {},
   "source": [
    "## Definindo parâmetros e inicializando"
   ]
  },
  {
   "cell_type": "code",
   "execution_count": 55,
   "metadata": {},
   "outputs": [],
   "source": [
    "# # instalar as dependências no Bash\n",
    "# !apt-get update -qq\n",
    "# !apt-get install openjdk-8-jdk-headless -qq > /dev/null\n",
    "# !wget -q https://archive.apache.org/dist/spark/spark-3.1.2/spark-3.1.2-bin-hadoop2.7.tgz\n",
    "# !tar xf spark-3.1.2-bin-hadoop2.7.tgz\n",
    "# !pip install -q findspark"
   ]
  },
  {
   "cell_type": "code",
   "execution_count": 1,
   "metadata": {},
   "outputs": [],
   "source": [
    "from dotenv import load_dotenv\n",
    "import os\n",
    "load_dotenv()\n",
    "\n",
    "token = os.getenv(\"TOKEN\")"
   ]
  },
  {
   "cell_type": "code",
   "execution_count": 2,
   "metadata": {},
   "outputs": [
    {
     "name": "stderr",
     "output_type": "stream",
     "text": [
      "25/02/13 21:22:23 WARN Utils: Your hostname, LAPTOP-3G01DURD resolves to a loopback address: 127.0.1.1; using 10.255.255.254 instead (on interface lo)\n",
      "25/02/13 21:22:23 WARN Utils: Set SPARK_LOCAL_IP if you need to bind to another address\n",
      "25/02/13 21:22:24 WARN NativeCodeLoader: Unable to load native-hadoop library for your platform... using builtin-java classes where applicable\n",
      "Using Spark's default log4j profile: org/apache/spark/log4j-defaults.properties\n",
      "Setting default log level to \"WARN\".\n",
      "To adjust logging level use sc.setLogLevel(newLevel). For SparkR, use setLogLevel(newLevel).\n"
     ]
    }
   ],
   "source": [
    "import os\n",
    "os.environ[\"JAVA_HOME\"] = \"/usr/lib/jvm/java-8-openjdk-amd64\"\n",
    "os.environ[\"SPARK_HOME\"] = \"/home/lpimenta/pySpark/spark-3.1.2-bin-hadoop2.7\"\n",
    "\n",
    "import findspark\n",
    "findspark.init()\n",
    "\n",
    "from pyspark.sql import SparkSession\n",
    "\n",
    "spark = SparkSession.builder \\\n",
    "    .master('local[*]') \\\n",
    "    .appName(\"Iniciando com Spark\") \\\n",
    "    .config('spark.ui.port', '4050') \\\n",
    "    .getOrCreate()"
   ]
  },
  {
   "cell_type": "code",
   "execution_count": 3,
   "metadata": {},
   "outputs": [
    {
     "data": {
      "text/html": [
       "\n",
       "            <div>\n",
       "                <p><b>SparkSession - in-memory</b></p>\n",
       "                \n",
       "        <div>\n",
       "            <p><b>SparkContext</b></p>\n",
       "\n",
       "            <p><a href=\"http://10.255.255.254:4050\">Spark UI</a></p>\n",
       "\n",
       "            <dl>\n",
       "              <dt>Version</dt>\n",
       "                <dd><code>v3.1.2</code></dd>\n",
       "              <dt>Master</dt>\n",
       "                <dd><code>local[*]</code></dd>\n",
       "              <dt>AppName</dt>\n",
       "                <dd><code>Iniciando com Spark</code></dd>\n",
       "            </dl>\n",
       "        </div>\n",
       "        \n",
       "            </div>\n",
       "        "
      ],
      "text/plain": [
       "<pyspark.sql.session.SparkSession at 0x7f43ccd87940>"
      ]
     },
     "execution_count": 3,
     "metadata": {},
     "output_type": "execute_result"
    }
   ],
   "source": [
    "spark"
   ]
  },
  {
   "cell_type": "markdown",
   "metadata": {},
   "source": [
    "[Site ngrok](https://ngrok.com)"
   ]
  },
  {
   "cell_type": "code",
   "execution_count": 4,
   "metadata": {},
   "outputs": [],
   "source": [
    "# ##Executar no Bash\n",
    "# !wget -q https://bin.equinox.io/c/4VmDzA7iaHb/ngrok-stable-linux-amd64.zip\n",
    "# !unzip ngrok-stable-linux-amd64.zip\n"
   ]
  },
  {
   "cell_type": "code",
   "execution_count": 5,
   "metadata": {},
   "outputs": [
    {
     "name": "stdout",
     "output_type": "stream",
     "text": [
      "Authtoken saved to configuration file: /home/lpimenta/.ngrok2/ngrok.yml\n"
     ]
    }
   ],
   "source": [
    "get_ipython().system_raw('/usr/local/bin/ngrok authtoken {token}')\n",
    "get_ipython().system_raw('/usr/local/bin/ngrok http 4050 &')"
   ]
  },
  {
   "cell_type": "code",
   "execution_count": 6,
   "metadata": {},
   "outputs": [],
   "source": [
    "!curl -s http://localhost:4040/api/tunnels"
   ]
  },
  {
   "cell_type": "markdown",
   "metadata": {},
   "source": [
    "## Trabalhando com DataFrames"
   ]
  },
  {
   "cell_type": "markdown",
   "metadata": {},
   "source": [
    "### Carregamento de dados\n",
    "\n",
    "#### Dados Públicos CNPJ\n",
    "##### Receita Federal\n",
    "\n",
    "> [Empresas](https://caelum-online-public.s3.amazonaws.com/2273-introducao-spark/01/empresas.zip)\n",
    "> \n",
    "> [Estabelecimentos](https://caelum-online-public.s3.amazonaws.com/2273-introducao-spark/01/estabelecimentos.zip)\n",
    "> \n",
    "> [Sócios](https://caelum-online-public.s3.amazonaws.com/2273-introducao-spark/01/socios.zip)"
   ]
  },
  {
   "cell_type": "code",
   "execution_count": 7,
   "metadata": {},
   "outputs": [],
   "source": [
    "import zipfile"
   ]
  },
  {
   "cell_type": "code",
   "execution_count": 8,
   "metadata": {},
   "outputs": [
    {
     "name": "stderr",
     "output_type": "stream",
     "text": [
      "                                                                                \r"
     ]
    },
    {
     "data": {
      "text/plain": [
       "4585679"
      ]
     },
     "execution_count": 8,
     "metadata": {},
     "output_type": "execute_result"
    }
   ],
   "source": [
    "path = '/home/lpimenta/pySpark/datasets'\n",
    "#zipfile.ZipFile('/home/lpimenta/pySpark/datasets/empresas.zip').extractall(\"/home/lpimenta/pySpark/datasets\")\n",
    "empresas = spark.read.csv(path+\"/empresas\",sep=';',inferSchema=True)\n",
    "empresas.count()"
   ]
  },
  {
   "cell_type": "code",
   "execution_count": 9,
   "metadata": {},
   "outputs": [
    {
     "name": "stderr",
     "output_type": "stream",
     "text": [
      "                                                                                \r"
     ]
    },
    {
     "data": {
      "text/plain": [
       "4836219"
      ]
     },
     "execution_count": 9,
     "metadata": {},
     "output_type": "execute_result"
    }
   ],
   "source": [
    "#zipfile.ZipFile('/home/lpimenta/pySpark/datasets/estabelecimentos.zip').extractall(path)\n",
    "estabelecimentos = spark.read.csv(path+\"/estabelecimentos\",sep=';',inferSchema=True)\n",
    "estabelecimentos.count()"
   ]
  },
  {
   "cell_type": "code",
   "execution_count": 10,
   "metadata": {},
   "outputs": [
    {
     "name": "stderr",
     "output_type": "stream",
     "text": [
      "                                                                                \r"
     ]
    },
    {
     "data": {
      "text/plain": [
       "2046430"
      ]
     },
     "execution_count": 10,
     "metadata": {},
     "output_type": "execute_result"
    }
   ],
   "source": [
    "#zipfile.ZipFile('/home/lpimenta/pySpark/datasets/socios.zip').extractall(path)\n",
    "socios = spark.read.csv(path+\"/socios\",sep=';',inferSchema=True)\n",
    "socios.count()"
   ]
  },
  {
   "cell_type": "markdown",
   "metadata": {},
   "source": [
    "## Manipulando os Dados"
   ]
  },
  {
   "cell_type": "markdown",
   "metadata": {},
   "source": [
    "#### Operações básicas"
   ]
  },
  {
   "cell_type": "code",
   "execution_count": 11,
   "metadata": {},
   "outputs": [
    {
     "data": {
      "text/html": [
       "<div>\n",
       "<style scoped>\n",
       "    .dataframe tbody tr th:only-of-type {\n",
       "        vertical-align: middle;\n",
       "    }\n",
       "\n",
       "    .dataframe tbody tr th {\n",
       "        vertical-align: top;\n",
       "    }\n",
       "\n",
       "    .dataframe thead th {\n",
       "        text-align: right;\n",
       "    }\n",
       "</style>\n",
       "<table border=\"1\" class=\"dataframe\">\n",
       "  <thead>\n",
       "    <tr style=\"text-align: right;\">\n",
       "      <th></th>\n",
       "      <th>_c0</th>\n",
       "      <th>_c1</th>\n",
       "      <th>_c2</th>\n",
       "      <th>_c3</th>\n",
       "      <th>_c4</th>\n",
       "      <th>_c5</th>\n",
       "      <th>_c6</th>\n",
       "    </tr>\n",
       "  </thead>\n",
       "  <tbody>\n",
       "    <tr>\n",
       "      <th>0</th>\n",
       "      <td>306</td>\n",
       "      <td>FRANCAMAR REFRIGERACAO TECNICA S/C LTDA</td>\n",
       "      <td>2240</td>\n",
       "      <td>49</td>\n",
       "      <td>0,00</td>\n",
       "      <td>1</td>\n",
       "      <td>None</td>\n",
       "    </tr>\n",
       "    <tr>\n",
       "      <th>1</th>\n",
       "      <td>1355</td>\n",
       "      <td>BRASILEIRO &amp; OLIVEIRA LTDA</td>\n",
       "      <td>2062</td>\n",
       "      <td>49</td>\n",
       "      <td>0,00</td>\n",
       "      <td>5</td>\n",
       "      <td>None</td>\n",
       "    </tr>\n",
       "    <tr>\n",
       "      <th>2</th>\n",
       "      <td>4820</td>\n",
       "      <td>REGISTRO DE IMOVEIS, TABELIONATO 1 DE NOTAS E ...</td>\n",
       "      <td>3034</td>\n",
       "      <td>32</td>\n",
       "      <td>0,00</td>\n",
       "      <td>5</td>\n",
       "      <td>None</td>\n",
       "    </tr>\n",
       "    <tr>\n",
       "      <th>3</th>\n",
       "      <td>5347</td>\n",
       "      <td>ROSELY APARECIDA MONTEIRO CALTABIANO FREITAS</td>\n",
       "      <td>2135</td>\n",
       "      <td>50</td>\n",
       "      <td>0,00</td>\n",
       "      <td>5</td>\n",
       "      <td>None</td>\n",
       "    </tr>\n",
       "    <tr>\n",
       "      <th>4</th>\n",
       "      <td>6846</td>\n",
       "      <td>BADU E FILHOS TECIDOS LTDA</td>\n",
       "      <td>2062</td>\n",
       "      <td>49</td>\n",
       "      <td>4000,00</td>\n",
       "      <td>1</td>\n",
       "      <td>None</td>\n",
       "    </tr>\n",
       "  </tbody>\n",
       "</table>\n",
       "</div>"
      ],
      "text/plain": [
       "    _c0                                                _c1   _c2  _c3  \\\n",
       "0   306            FRANCAMAR REFRIGERACAO TECNICA S/C LTDA  2240   49   \n",
       "1  1355                         BRASILEIRO & OLIVEIRA LTDA  2062   49   \n",
       "2  4820  REGISTRO DE IMOVEIS, TABELIONATO 1 DE NOTAS E ...  3034   32   \n",
       "3  5347       ROSELY APARECIDA MONTEIRO CALTABIANO FREITAS  2135   50   \n",
       "4  6846                         BADU E FILHOS TECIDOS LTDA  2062   49   \n",
       "\n",
       "       _c4  _c5   _c6  \n",
       "0     0,00    1  None  \n",
       "1     0,00    5  None  \n",
       "2     0,00    5  None  \n",
       "3     0,00    5  None  \n",
       "4  4000,00    1  None  "
      ]
     },
     "execution_count": 11,
     "metadata": {},
     "output_type": "execute_result"
    }
   ],
   "source": [
    "empresas.limit(5).toPandas()"
   ]
  },
  {
   "cell_type": "markdown",
   "metadata": {},
   "source": [
    "##### Renomeando as colunas do dataframe"
   ]
  },
  {
   "cell_type": "code",
   "execution_count": 12,
   "metadata": {},
   "outputs": [],
   "source": [
    "empresasColNames = ['cnpj_basico', 'razao_social_nome_empresarial', 'natureza_juridica', 'qualificacao_do_responsavel', 'capital_social_da_empresa', 'porte_da_empresa', 'ente_federativo_responsavel']\n",
    "estabsColNames = ['cnpj_basico', 'cnpj_ordem', 'cnpj_dv', 'identificador_matriz_filial', 'nome_fantasia', 'situacao_cadastral', 'data_situacao_cadastral', 'motivo_situacao_cadastral', 'nome_da_cidade_no_exterior', 'pais', 'data_de_inicio_atividade', 'cnae_fiscal_principal', 'cnae_fiscal_secundaria', 'tipo_de_logradouro', 'logradouro', 'numero', 'complemento', 'bairro', 'cep', 'uf', 'municipio', 'ddd_1', 'telefone_1', 'ddd_2', 'telefone_2', 'ddd_do_fax', 'fax', 'correio_eletronico', 'situacao_especial', 'data_da_situacao_especial']\n",
    "sociosColNames = ['cnpj_basico', 'identificador_de_socio', 'nome_do_socio_ou_razao_social', 'cnpj_ou_cpf_do_socio', 'qualificacao_do_socio', 'data_de_entrada_sociedade', 'pais', 'representante_legal', 'nome_do_representante', 'qualificacao_do_representante_legal', 'faixa_etaria']"
   ]
  },
  {
   "cell_type": "code",
   "execution_count": 13,
   "metadata": {},
   "outputs": [
    {
     "data": {
      "text/plain": [
       "['cnpj_basico',\n",
       " 'razao_social_nome_empresarial',\n",
       " 'natureza_juridica',\n",
       " 'qualificacao_do_responsavel',\n",
       " 'capital_social_da_empresa',\n",
       " 'porte_da_empresa',\n",
       " 'ente_federativo_responsavel']"
      ]
     },
     "execution_count": 13,
     "metadata": {},
     "output_type": "execute_result"
    }
   ],
   "source": [
    "for index,colName in enumerate(empresasColNames):\n",
    "    empresas = empresas.withColumnRenamed(f\"_c{index}\",colName)\n",
    "\n",
    "\n",
    "empresas.columns"
   ]
  },
  {
   "cell_type": "code",
   "execution_count": 14,
   "metadata": {},
   "outputs": [
    {
     "data": {
      "text/plain": [
       "['cnpj_basico',\n",
       " 'cnpj_ordem',\n",
       " 'cnpj_dv',\n",
       " 'identificador_matriz_filial',\n",
       " 'nome_fantasia',\n",
       " 'situacao_cadastral',\n",
       " 'data_situacao_cadastral',\n",
       " 'motivo_situacao_cadastral',\n",
       " 'nome_da_cidade_no_exterior',\n",
       " 'pais',\n",
       " 'data_de_inicio_atividade',\n",
       " 'cnae_fiscal_principal',\n",
       " 'cnae_fiscal_secundaria',\n",
       " 'tipo_de_logradouro',\n",
       " 'logradouro',\n",
       " 'numero',\n",
       " 'complemento',\n",
       " 'bairro',\n",
       " 'cep',\n",
       " 'uf',\n",
       " 'municipio',\n",
       " 'ddd_1',\n",
       " 'telefone_1',\n",
       " 'ddd_2',\n",
       " 'telefone_2',\n",
       " 'ddd_do_fax',\n",
       " 'fax',\n",
       " 'correio_eletronico',\n",
       " 'situacao_especial',\n",
       " 'data_da_situacao_especial']"
      ]
     },
     "execution_count": 14,
     "metadata": {},
     "output_type": "execute_result"
    }
   ],
   "source": [
    "for index,colName in enumerate(estabsColNames):\n",
    "    estabelecimentos = estabelecimentos.withColumnRenamed(f\"_c{index}\",colName)\n",
    "\n",
    "\n",
    "estabelecimentos.columns"
   ]
  },
  {
   "cell_type": "code",
   "execution_count": 15,
   "metadata": {},
   "outputs": [
    {
     "name": "stderr",
     "output_type": "stream",
     "text": [
      "25/02/13 21:23:04 WARN package: Truncated the string representation of a plan since it was too large. This behavior can be adjusted by setting 'spark.sql.debug.maxToStringFields'.\n"
     ]
    },
    {
     "data": {
      "text/html": [
       "<div>\n",
       "<style scoped>\n",
       "    .dataframe tbody tr th:only-of-type {\n",
       "        vertical-align: middle;\n",
       "    }\n",
       "\n",
       "    .dataframe tbody tr th {\n",
       "        vertical-align: top;\n",
       "    }\n",
       "\n",
       "    .dataframe thead th {\n",
       "        text-align: right;\n",
       "    }\n",
       "</style>\n",
       "<table border=\"1\" class=\"dataframe\">\n",
       "  <thead>\n",
       "    <tr style=\"text-align: right;\">\n",
       "      <th></th>\n",
       "      <th>cnpj_basico</th>\n",
       "      <th>cnpj_ordem</th>\n",
       "      <th>cnpj_dv</th>\n",
       "      <th>identificador_matriz_filial</th>\n",
       "      <th>nome_fantasia</th>\n",
       "      <th>situacao_cadastral</th>\n",
       "      <th>data_situacao_cadastral</th>\n",
       "      <th>motivo_situacao_cadastral</th>\n",
       "      <th>nome_da_cidade_no_exterior</th>\n",
       "      <th>pais</th>\n",
       "      <th>...</th>\n",
       "      <th>municipio</th>\n",
       "      <th>ddd_1</th>\n",
       "      <th>telefone_1</th>\n",
       "      <th>ddd_2</th>\n",
       "      <th>telefone_2</th>\n",
       "      <th>ddd_do_fax</th>\n",
       "      <th>fax</th>\n",
       "      <th>correio_eletronico</th>\n",
       "      <th>situacao_especial</th>\n",
       "      <th>data_da_situacao_especial</th>\n",
       "    </tr>\n",
       "  </thead>\n",
       "  <tbody>\n",
       "    <tr>\n",
       "      <th>0</th>\n",
       "      <td>1879</td>\n",
       "      <td>1</td>\n",
       "      <td>96</td>\n",
       "      <td>1</td>\n",
       "      <td>PIRAMIDE M. C.</td>\n",
       "      <td>8</td>\n",
       "      <td>20011029</td>\n",
       "      <td>1</td>\n",
       "      <td>None</td>\n",
       "      <td>NaN</td>\n",
       "      <td>...</td>\n",
       "      <td>7107</td>\n",
       "      <td>None</td>\n",
       "      <td>None</td>\n",
       "      <td>None</td>\n",
       "      <td>None</td>\n",
       "      <td>NaN</td>\n",
       "      <td>None</td>\n",
       "      <td>None</td>\n",
       "      <td>None</td>\n",
       "      <td>NaN</td>\n",
       "    </tr>\n",
       "    <tr>\n",
       "      <th>1</th>\n",
       "      <td>2818</td>\n",
       "      <td>1</td>\n",
       "      <td>43</td>\n",
       "      <td>1</td>\n",
       "      <td>None</td>\n",
       "      <td>8</td>\n",
       "      <td>20081231</td>\n",
       "      <td>71</td>\n",
       "      <td>None</td>\n",
       "      <td>NaN</td>\n",
       "      <td>...</td>\n",
       "      <td>7107</td>\n",
       "      <td>None</td>\n",
       "      <td>None</td>\n",
       "      <td>None</td>\n",
       "      <td>None</td>\n",
       "      <td>NaN</td>\n",
       "      <td>None</td>\n",
       "      <td>None</td>\n",
       "      <td>None</td>\n",
       "      <td>NaN</td>\n",
       "    </tr>\n",
       "    <tr>\n",
       "      <th>2</th>\n",
       "      <td>3110</td>\n",
       "      <td>1</td>\n",
       "      <td>7</td>\n",
       "      <td>1</td>\n",
       "      <td>None</td>\n",
       "      <td>8</td>\n",
       "      <td>19971231</td>\n",
       "      <td>1</td>\n",
       "      <td>None</td>\n",
       "      <td>NaN</td>\n",
       "      <td>...</td>\n",
       "      <td>7107</td>\n",
       "      <td>None</td>\n",
       "      <td>None</td>\n",
       "      <td>None</td>\n",
       "      <td>None</td>\n",
       "      <td>NaN</td>\n",
       "      <td>None</td>\n",
       "      <td>None</td>\n",
       "      <td>None</td>\n",
       "      <td>NaN</td>\n",
       "    </tr>\n",
       "    <tr>\n",
       "      <th>3</th>\n",
       "      <td>3733</td>\n",
       "      <td>1</td>\n",
       "      <td>80</td>\n",
       "      <td>1</td>\n",
       "      <td>None</td>\n",
       "      <td>8</td>\n",
       "      <td>20081231</td>\n",
       "      <td>71</td>\n",
       "      <td>None</td>\n",
       "      <td>NaN</td>\n",
       "      <td>...</td>\n",
       "      <td>7107</td>\n",
       "      <td>None</td>\n",
       "      <td>None</td>\n",
       "      <td>None</td>\n",
       "      <td>None</td>\n",
       "      <td>NaN</td>\n",
       "      <td>None</td>\n",
       "      <td>None</td>\n",
       "      <td>None</td>\n",
       "      <td>NaN</td>\n",
       "    </tr>\n",
       "    <tr>\n",
       "      <th>4</th>\n",
       "      <td>4628</td>\n",
       "      <td>3</td>\n",
       "      <td>27</td>\n",
       "      <td>2</td>\n",
       "      <td>EMBROIDERY &amp; GIFT</td>\n",
       "      <td>8</td>\n",
       "      <td>19980429</td>\n",
       "      <td>1</td>\n",
       "      <td>None</td>\n",
       "      <td>NaN</td>\n",
       "      <td>...</td>\n",
       "      <td>7075</td>\n",
       "      <td>None</td>\n",
       "      <td>None</td>\n",
       "      <td>None</td>\n",
       "      <td>None</td>\n",
       "      <td>NaN</td>\n",
       "      <td>None</td>\n",
       "      <td>None</td>\n",
       "      <td>None</td>\n",
       "      <td>NaN</td>\n",
       "    </tr>\n",
       "  </tbody>\n",
       "</table>\n",
       "<p>5 rows × 30 columns</p>\n",
       "</div>"
      ],
      "text/plain": [
       "   cnpj_basico  cnpj_ordem  cnpj_dv  identificador_matriz_filial  \\\n",
       "0         1879           1       96                            1   \n",
       "1         2818           1       43                            1   \n",
       "2         3110           1        7                            1   \n",
       "3         3733           1       80                            1   \n",
       "4         4628           3       27                            2   \n",
       "\n",
       "       nome_fantasia  situacao_cadastral  data_situacao_cadastral  \\\n",
       "0     PIRAMIDE M. C.                   8                 20011029   \n",
       "1               None                   8                 20081231   \n",
       "2               None                   8                 19971231   \n",
       "3               None                   8                 20081231   \n",
       "4  EMBROIDERY & GIFT                   8                 19980429   \n",
       "\n",
       "   motivo_situacao_cadastral nome_da_cidade_no_exterior  pais  ...  municipio  \\\n",
       "0                          1                       None   NaN  ...       7107   \n",
       "1                         71                       None   NaN  ...       7107   \n",
       "2                          1                       None   NaN  ...       7107   \n",
       "3                         71                       None   NaN  ...       7107   \n",
       "4                          1                       None   NaN  ...       7075   \n",
       "\n",
       "   ddd_1 telefone_1 ddd_2 telefone_2 ddd_do_fax   fax correio_eletronico  \\\n",
       "0   None       None  None       None        NaN  None               None   \n",
       "1   None       None  None       None        NaN  None               None   \n",
       "2   None       None  None       None        NaN  None               None   \n",
       "3   None       None  None       None        NaN  None               None   \n",
       "4   None       None  None       None        NaN  None               None   \n",
       "\n",
       "   situacao_especial data_da_situacao_especial  \n",
       "0               None                       NaN  \n",
       "1               None                       NaN  \n",
       "2               None                       NaN  \n",
       "3               None                       NaN  \n",
       "4               None                       NaN  \n",
       "\n",
       "[5 rows x 30 columns]"
      ]
     },
     "execution_count": 15,
     "metadata": {},
     "output_type": "execute_result"
    }
   ],
   "source": [
    "estabelecimentos.limit(5).toPandas()"
   ]
  },
  {
   "cell_type": "code",
   "execution_count": 16,
   "metadata": {},
   "outputs": [
    {
     "data": {
      "text/plain": [
       "['cnpj_basico',\n",
       " 'identificador_de_socio',\n",
       " 'nome_do_socio_ou_razao_social',\n",
       " 'cnpj_ou_cpf_do_socio',\n",
       " 'qualificacao_do_socio',\n",
       " 'data_de_entrada_sociedade',\n",
       " 'pais',\n",
       " 'representante_legal',\n",
       " 'nome_do_representante',\n",
       " 'qualificacao_do_representante_legal',\n",
       " 'faixa_etaria']"
      ]
     },
     "execution_count": 16,
     "metadata": {},
     "output_type": "execute_result"
    }
   ],
   "source": [
    "for index,colName in enumerate(sociosColNames):\n",
    "    socios = socios.withColumnRenamed(f\"_c{index}\",colName)\n",
    "\n",
    "\n",
    "socios.columns"
   ]
  },
  {
   "cell_type": "code",
   "execution_count": 17,
   "metadata": {},
   "outputs": [
    {
     "data": {
      "text/html": [
       "<div>\n",
       "<style scoped>\n",
       "    .dataframe tbody tr th:only-of-type {\n",
       "        vertical-align: middle;\n",
       "    }\n",
       "\n",
       "    .dataframe tbody tr th {\n",
       "        vertical-align: top;\n",
       "    }\n",
       "\n",
       "    .dataframe thead th {\n",
       "        text-align: right;\n",
       "    }\n",
       "</style>\n",
       "<table border=\"1\" class=\"dataframe\">\n",
       "  <thead>\n",
       "    <tr style=\"text-align: right;\">\n",
       "      <th></th>\n",
       "      <th>cnpj_basico</th>\n",
       "      <th>identificador_de_socio</th>\n",
       "      <th>nome_do_socio_ou_razao_social</th>\n",
       "      <th>cnpj_ou_cpf_do_socio</th>\n",
       "      <th>qualificacao_do_socio</th>\n",
       "      <th>data_de_entrada_sociedade</th>\n",
       "      <th>pais</th>\n",
       "      <th>representante_legal</th>\n",
       "      <th>nome_do_representante</th>\n",
       "      <th>qualificacao_do_representante_legal</th>\n",
       "      <th>faixa_etaria</th>\n",
       "    </tr>\n",
       "  </thead>\n",
       "  <tbody>\n",
       "    <tr>\n",
       "      <th>0</th>\n",
       "      <td>411</td>\n",
       "      <td>2</td>\n",
       "      <td>LILIANA PATRICIA GUASTAVINO</td>\n",
       "      <td>***678188**</td>\n",
       "      <td>22</td>\n",
       "      <td>19940725</td>\n",
       "      <td>NaN</td>\n",
       "      <td>***000000**</td>\n",
       "      <td>None</td>\n",
       "      <td>0</td>\n",
       "      <td>7</td>\n",
       "    </tr>\n",
       "    <tr>\n",
       "      <th>1</th>\n",
       "      <td>411</td>\n",
       "      <td>2</td>\n",
       "      <td>CRISTINA HUNDERTMARK</td>\n",
       "      <td>***637848**</td>\n",
       "      <td>28</td>\n",
       "      <td>19940725</td>\n",
       "      <td>NaN</td>\n",
       "      <td>***000000**</td>\n",
       "      <td>None</td>\n",
       "      <td>0</td>\n",
       "      <td>7</td>\n",
       "    </tr>\n",
       "    <tr>\n",
       "      <th>2</th>\n",
       "      <td>5813</td>\n",
       "      <td>2</td>\n",
       "      <td>CELSO EDUARDO DE CASTRO STEPHAN</td>\n",
       "      <td>***786068**</td>\n",
       "      <td>49</td>\n",
       "      <td>19940516</td>\n",
       "      <td>NaN</td>\n",
       "      <td>***000000**</td>\n",
       "      <td>None</td>\n",
       "      <td>0</td>\n",
       "      <td>8</td>\n",
       "    </tr>\n",
       "    <tr>\n",
       "      <th>3</th>\n",
       "      <td>5813</td>\n",
       "      <td>2</td>\n",
       "      <td>EDUARDO BERRINGER STEPHAN</td>\n",
       "      <td>***442348**</td>\n",
       "      <td>49</td>\n",
       "      <td>19940516</td>\n",
       "      <td>NaN</td>\n",
       "      <td>***000000**</td>\n",
       "      <td>None</td>\n",
       "      <td>0</td>\n",
       "      <td>5</td>\n",
       "    </tr>\n",
       "    <tr>\n",
       "      <th>4</th>\n",
       "      <td>14798</td>\n",
       "      <td>2</td>\n",
       "      <td>HANNE MAHFOUD FADEL</td>\n",
       "      <td>***760388**</td>\n",
       "      <td>49</td>\n",
       "      <td>19940609</td>\n",
       "      <td>NaN</td>\n",
       "      <td>***000000**</td>\n",
       "      <td>None</td>\n",
       "      <td>0</td>\n",
       "      <td>8</td>\n",
       "    </tr>\n",
       "  </tbody>\n",
       "</table>\n",
       "</div>"
      ],
      "text/plain": [
       "   cnpj_basico  identificador_de_socio    nome_do_socio_ou_razao_social  \\\n",
       "0          411                       2      LILIANA PATRICIA GUASTAVINO   \n",
       "1          411                       2             CRISTINA HUNDERTMARK   \n",
       "2         5813                       2  CELSO EDUARDO DE CASTRO STEPHAN   \n",
       "3         5813                       2        EDUARDO BERRINGER STEPHAN   \n",
       "4        14798                       2              HANNE MAHFOUD FADEL   \n",
       "\n",
       "  cnpj_ou_cpf_do_socio  qualificacao_do_socio  data_de_entrada_sociedade  \\\n",
       "0          ***678188**                     22                   19940725   \n",
       "1          ***637848**                     28                   19940725   \n",
       "2          ***786068**                     49                   19940516   \n",
       "3          ***442348**                     49                   19940516   \n",
       "4          ***760388**                     49                   19940609   \n",
       "\n",
       "   pais representante_legal nome_do_representante  \\\n",
       "0   NaN         ***000000**                  None   \n",
       "1   NaN         ***000000**                  None   \n",
       "2   NaN         ***000000**                  None   \n",
       "3   NaN         ***000000**                  None   \n",
       "4   NaN         ***000000**                  None   \n",
       "\n",
       "   qualificacao_do_representante_legal  faixa_etaria  \n",
       "0                                    0             7  \n",
       "1                                    0             7  \n",
       "2                                    0             8  \n",
       "3                                    0             5  \n",
       "4                                    0             8  "
      ]
     },
     "execution_count": 17,
     "metadata": {},
     "output_type": "execute_result"
    }
   ],
   "source": [
    "socios.limit(5).toPandas()"
   ]
  },
  {
   "cell_type": "markdown",
   "metadata": {},
   "source": [
    "## Analisando os dados"
   ]
  },
  {
   "cell_type": "code",
   "execution_count": 18,
   "metadata": {},
   "outputs": [
    {
     "data": {
      "text/html": [
       "<div>\n",
       "<style scoped>\n",
       "    .dataframe tbody tr th:only-of-type {\n",
       "        vertical-align: middle;\n",
       "    }\n",
       "\n",
       "    .dataframe tbody tr th {\n",
       "        vertical-align: top;\n",
       "    }\n",
       "\n",
       "    .dataframe thead th {\n",
       "        text-align: right;\n",
       "    }\n",
       "</style>\n",
       "<table border=\"1\" class=\"dataframe\">\n",
       "  <thead>\n",
       "    <tr style=\"text-align: right;\">\n",
       "      <th></th>\n",
       "      <th>cnpj_basico</th>\n",
       "      <th>razao_social_nome_empresarial</th>\n",
       "      <th>natureza_juridica</th>\n",
       "      <th>qualificacao_do_responsavel</th>\n",
       "      <th>capital_social_da_empresa</th>\n",
       "      <th>porte_da_empresa</th>\n",
       "      <th>ente_federativo_responsavel</th>\n",
       "    </tr>\n",
       "  </thead>\n",
       "  <tbody>\n",
       "    <tr>\n",
       "      <th>0</th>\n",
       "      <td>306</td>\n",
       "      <td>FRANCAMAR REFRIGERACAO TECNICA S/C LTDA</td>\n",
       "      <td>2240</td>\n",
       "      <td>49</td>\n",
       "      <td>0,00</td>\n",
       "      <td>1</td>\n",
       "      <td>None</td>\n",
       "    </tr>\n",
       "    <tr>\n",
       "      <th>1</th>\n",
       "      <td>1355</td>\n",
       "      <td>BRASILEIRO &amp; OLIVEIRA LTDA</td>\n",
       "      <td>2062</td>\n",
       "      <td>49</td>\n",
       "      <td>0,00</td>\n",
       "      <td>5</td>\n",
       "      <td>None</td>\n",
       "    </tr>\n",
       "    <tr>\n",
       "      <th>2</th>\n",
       "      <td>4820</td>\n",
       "      <td>REGISTRO DE IMOVEIS, TABELIONATO 1 DE NOTAS E ...</td>\n",
       "      <td>3034</td>\n",
       "      <td>32</td>\n",
       "      <td>0,00</td>\n",
       "      <td>5</td>\n",
       "      <td>None</td>\n",
       "    </tr>\n",
       "    <tr>\n",
       "      <th>3</th>\n",
       "      <td>5347</td>\n",
       "      <td>ROSELY APARECIDA MONTEIRO CALTABIANO FREITAS</td>\n",
       "      <td>2135</td>\n",
       "      <td>50</td>\n",
       "      <td>0,00</td>\n",
       "      <td>5</td>\n",
       "      <td>None</td>\n",
       "    </tr>\n",
       "    <tr>\n",
       "      <th>4</th>\n",
       "      <td>6846</td>\n",
       "      <td>BADU E FILHOS TECIDOS LTDA</td>\n",
       "      <td>2062</td>\n",
       "      <td>49</td>\n",
       "      <td>4000,00</td>\n",
       "      <td>1</td>\n",
       "      <td>None</td>\n",
       "    </tr>\n",
       "  </tbody>\n",
       "</table>\n",
       "</div>"
      ],
      "text/plain": [
       "   cnpj_basico                      razao_social_nome_empresarial  \\\n",
       "0          306            FRANCAMAR REFRIGERACAO TECNICA S/C LTDA   \n",
       "1         1355                         BRASILEIRO & OLIVEIRA LTDA   \n",
       "2         4820  REGISTRO DE IMOVEIS, TABELIONATO 1 DE NOTAS E ...   \n",
       "3         5347       ROSELY APARECIDA MONTEIRO CALTABIANO FREITAS   \n",
       "4         6846                         BADU E FILHOS TECIDOS LTDA   \n",
       "\n",
       "   natureza_juridica  qualificacao_do_responsavel capital_social_da_empresa  \\\n",
       "0               2240                           49                      0,00   \n",
       "1               2062                           49                      0,00   \n",
       "2               3034                           32                      0,00   \n",
       "3               2135                           50                      0,00   \n",
       "4               2062                           49                   4000,00   \n",
       "\n",
       "   porte_da_empresa ente_federativo_responsavel  \n",
       "0                 1                        None  \n",
       "1                 5                        None  \n",
       "2                 5                        None  \n",
       "3                 5                        None  \n",
       "4                 1                        None  "
      ]
     },
     "execution_count": 18,
     "metadata": {},
     "output_type": "execute_result"
    }
   ],
   "source": [
    "empresas.limit(5).toPandas()"
   ]
  },
  {
   "cell_type": "code",
   "execution_count": 19,
   "metadata": {},
   "outputs": [
    {
     "name": "stdout",
     "output_type": "stream",
     "text": [
      "root\n",
      " |-- cnpj_basico: integer (nullable = true)\n",
      " |-- razao_social_nome_empresarial: string (nullable = true)\n",
      " |-- natureza_juridica: integer (nullable = true)\n",
      " |-- qualificacao_do_responsavel: integer (nullable = true)\n",
      " |-- capital_social_da_empresa: string (nullable = true)\n",
      " |-- porte_da_empresa: integer (nullable = true)\n",
      " |-- ente_federativo_responsavel: string (nullable = true)\n",
      "\n"
     ]
    }
   ],
   "source": [
    "empresas.printSchema()"
   ]
  },
  {
   "cell_type": "code",
   "execution_count": 20,
   "metadata": {},
   "outputs": [
    {
     "data": {
      "text/html": [
       "<div>\n",
       "<style scoped>\n",
       "    .dataframe tbody tr th:only-of-type {\n",
       "        vertical-align: middle;\n",
       "    }\n",
       "\n",
       "    .dataframe tbody tr th {\n",
       "        vertical-align: top;\n",
       "    }\n",
       "\n",
       "    .dataframe thead th {\n",
       "        text-align: right;\n",
       "    }\n",
       "</style>\n",
       "<table border=\"1\" class=\"dataframe\">\n",
       "  <thead>\n",
       "    <tr style=\"text-align: right;\">\n",
       "      <th></th>\n",
       "      <th>cnpj_basico</th>\n",
       "      <th>cnpj_ordem</th>\n",
       "      <th>cnpj_dv</th>\n",
       "      <th>identificador_matriz_filial</th>\n",
       "      <th>nome_fantasia</th>\n",
       "      <th>situacao_cadastral</th>\n",
       "      <th>data_situacao_cadastral</th>\n",
       "      <th>motivo_situacao_cadastral</th>\n",
       "      <th>nome_da_cidade_no_exterior</th>\n",
       "      <th>pais</th>\n",
       "      <th>...</th>\n",
       "      <th>municipio</th>\n",
       "      <th>ddd_1</th>\n",
       "      <th>telefone_1</th>\n",
       "      <th>ddd_2</th>\n",
       "      <th>telefone_2</th>\n",
       "      <th>ddd_do_fax</th>\n",
       "      <th>fax</th>\n",
       "      <th>correio_eletronico</th>\n",
       "      <th>situacao_especial</th>\n",
       "      <th>data_da_situacao_especial</th>\n",
       "    </tr>\n",
       "  </thead>\n",
       "  <tbody>\n",
       "    <tr>\n",
       "      <th>0</th>\n",
       "      <td>1879</td>\n",
       "      <td>1</td>\n",
       "      <td>96</td>\n",
       "      <td>1</td>\n",
       "      <td>PIRAMIDE M. C.</td>\n",
       "      <td>8</td>\n",
       "      <td>20011029</td>\n",
       "      <td>1</td>\n",
       "      <td>None</td>\n",
       "      <td>NaN</td>\n",
       "      <td>...</td>\n",
       "      <td>7107</td>\n",
       "      <td>None</td>\n",
       "      <td>None</td>\n",
       "      <td>None</td>\n",
       "      <td>None</td>\n",
       "      <td>NaN</td>\n",
       "      <td>None</td>\n",
       "      <td>None</td>\n",
       "      <td>None</td>\n",
       "      <td>NaN</td>\n",
       "    </tr>\n",
       "    <tr>\n",
       "      <th>1</th>\n",
       "      <td>2818</td>\n",
       "      <td>1</td>\n",
       "      <td>43</td>\n",
       "      <td>1</td>\n",
       "      <td>None</td>\n",
       "      <td>8</td>\n",
       "      <td>20081231</td>\n",
       "      <td>71</td>\n",
       "      <td>None</td>\n",
       "      <td>NaN</td>\n",
       "      <td>...</td>\n",
       "      <td>7107</td>\n",
       "      <td>None</td>\n",
       "      <td>None</td>\n",
       "      <td>None</td>\n",
       "      <td>None</td>\n",
       "      <td>NaN</td>\n",
       "      <td>None</td>\n",
       "      <td>None</td>\n",
       "      <td>None</td>\n",
       "      <td>NaN</td>\n",
       "    </tr>\n",
       "    <tr>\n",
       "      <th>2</th>\n",
       "      <td>3110</td>\n",
       "      <td>1</td>\n",
       "      <td>7</td>\n",
       "      <td>1</td>\n",
       "      <td>None</td>\n",
       "      <td>8</td>\n",
       "      <td>19971231</td>\n",
       "      <td>1</td>\n",
       "      <td>None</td>\n",
       "      <td>NaN</td>\n",
       "      <td>...</td>\n",
       "      <td>7107</td>\n",
       "      <td>None</td>\n",
       "      <td>None</td>\n",
       "      <td>None</td>\n",
       "      <td>None</td>\n",
       "      <td>NaN</td>\n",
       "      <td>None</td>\n",
       "      <td>None</td>\n",
       "      <td>None</td>\n",
       "      <td>NaN</td>\n",
       "    </tr>\n",
       "    <tr>\n",
       "      <th>3</th>\n",
       "      <td>3733</td>\n",
       "      <td>1</td>\n",
       "      <td>80</td>\n",
       "      <td>1</td>\n",
       "      <td>None</td>\n",
       "      <td>8</td>\n",
       "      <td>20081231</td>\n",
       "      <td>71</td>\n",
       "      <td>None</td>\n",
       "      <td>NaN</td>\n",
       "      <td>...</td>\n",
       "      <td>7107</td>\n",
       "      <td>None</td>\n",
       "      <td>None</td>\n",
       "      <td>None</td>\n",
       "      <td>None</td>\n",
       "      <td>NaN</td>\n",
       "      <td>None</td>\n",
       "      <td>None</td>\n",
       "      <td>None</td>\n",
       "      <td>NaN</td>\n",
       "    </tr>\n",
       "    <tr>\n",
       "      <th>4</th>\n",
       "      <td>4628</td>\n",
       "      <td>3</td>\n",
       "      <td>27</td>\n",
       "      <td>2</td>\n",
       "      <td>EMBROIDERY &amp; GIFT</td>\n",
       "      <td>8</td>\n",
       "      <td>19980429</td>\n",
       "      <td>1</td>\n",
       "      <td>None</td>\n",
       "      <td>NaN</td>\n",
       "      <td>...</td>\n",
       "      <td>7075</td>\n",
       "      <td>None</td>\n",
       "      <td>None</td>\n",
       "      <td>None</td>\n",
       "      <td>None</td>\n",
       "      <td>NaN</td>\n",
       "      <td>None</td>\n",
       "      <td>None</td>\n",
       "      <td>None</td>\n",
       "      <td>NaN</td>\n",
       "    </tr>\n",
       "  </tbody>\n",
       "</table>\n",
       "<p>5 rows × 30 columns</p>\n",
       "</div>"
      ],
      "text/plain": [
       "   cnpj_basico  cnpj_ordem  cnpj_dv  identificador_matriz_filial  \\\n",
       "0         1879           1       96                            1   \n",
       "1         2818           1       43                            1   \n",
       "2         3110           1        7                            1   \n",
       "3         3733           1       80                            1   \n",
       "4         4628           3       27                            2   \n",
       "\n",
       "       nome_fantasia  situacao_cadastral  data_situacao_cadastral  \\\n",
       "0     PIRAMIDE M. C.                   8                 20011029   \n",
       "1               None                   8                 20081231   \n",
       "2               None                   8                 19971231   \n",
       "3               None                   8                 20081231   \n",
       "4  EMBROIDERY & GIFT                   8                 19980429   \n",
       "\n",
       "   motivo_situacao_cadastral nome_da_cidade_no_exterior  pais  ...  municipio  \\\n",
       "0                          1                       None   NaN  ...       7107   \n",
       "1                         71                       None   NaN  ...       7107   \n",
       "2                          1                       None   NaN  ...       7107   \n",
       "3                         71                       None   NaN  ...       7107   \n",
       "4                          1                       None   NaN  ...       7075   \n",
       "\n",
       "   ddd_1 telefone_1 ddd_2 telefone_2 ddd_do_fax   fax correio_eletronico  \\\n",
       "0   None       None  None       None        NaN  None               None   \n",
       "1   None       None  None       None        NaN  None               None   \n",
       "2   None       None  None       None        NaN  None               None   \n",
       "3   None       None  None       None        NaN  None               None   \n",
       "4   None       None  None       None        NaN  None               None   \n",
       "\n",
       "   situacao_especial data_da_situacao_especial  \n",
       "0               None                       NaN  \n",
       "1               None                       NaN  \n",
       "2               None                       NaN  \n",
       "3               None                       NaN  \n",
       "4               None                       NaN  \n",
       "\n",
       "[5 rows x 30 columns]"
      ]
     },
     "execution_count": 20,
     "metadata": {},
     "output_type": "execute_result"
    }
   ],
   "source": [
    "estabelecimentos.limit(5).toPandas()"
   ]
  },
  {
   "cell_type": "code",
   "execution_count": 21,
   "metadata": {},
   "outputs": [
    {
     "name": "stdout",
     "output_type": "stream",
     "text": [
      "root\n",
      " |-- cnpj_basico: integer (nullable = true)\n",
      " |-- cnpj_ordem: integer (nullable = true)\n",
      " |-- cnpj_dv: integer (nullable = true)\n",
      " |-- identificador_matriz_filial: integer (nullable = true)\n",
      " |-- nome_fantasia: string (nullable = true)\n",
      " |-- situacao_cadastral: integer (nullable = true)\n",
      " |-- data_situacao_cadastral: integer (nullable = true)\n",
      " |-- motivo_situacao_cadastral: integer (nullable = true)\n",
      " |-- nome_da_cidade_no_exterior: string (nullable = true)\n",
      " |-- pais: integer (nullable = true)\n",
      " |-- data_de_inicio_atividade: integer (nullable = true)\n",
      " |-- cnae_fiscal_principal: integer (nullable = true)\n",
      " |-- cnae_fiscal_secundaria: string (nullable = true)\n",
      " |-- tipo_de_logradouro: string (nullable = true)\n",
      " |-- logradouro: string (nullable = true)\n",
      " |-- numero: string (nullable = true)\n",
      " |-- complemento: string (nullable = true)\n",
      " |-- bairro: string (nullable = true)\n",
      " |-- cep: integer (nullable = true)\n",
      " |-- uf: string (nullable = true)\n",
      " |-- municipio: integer (nullable = true)\n",
      " |-- ddd_1: string (nullable = true)\n",
      " |-- telefone_1: string (nullable = true)\n",
      " |-- ddd_2: string (nullable = true)\n",
      " |-- telefone_2: string (nullable = true)\n",
      " |-- ddd_do_fax: integer (nullable = true)\n",
      " |-- fax: string (nullable = true)\n",
      " |-- correio_eletronico: string (nullable = true)\n",
      " |-- situacao_especial: string (nullable = true)\n",
      " |-- data_da_situacao_especial: integer (nullable = true)\n",
      "\n"
     ]
    }
   ],
   "source": [
    "estabelecimentos.printSchema()"
   ]
  },
  {
   "cell_type": "code",
   "execution_count": 22,
   "metadata": {},
   "outputs": [
    {
     "data": {
      "text/html": [
       "<div>\n",
       "<style scoped>\n",
       "    .dataframe tbody tr th:only-of-type {\n",
       "        vertical-align: middle;\n",
       "    }\n",
       "\n",
       "    .dataframe tbody tr th {\n",
       "        vertical-align: top;\n",
       "    }\n",
       "\n",
       "    .dataframe thead th {\n",
       "        text-align: right;\n",
       "    }\n",
       "</style>\n",
       "<table border=\"1\" class=\"dataframe\">\n",
       "  <thead>\n",
       "    <tr style=\"text-align: right;\">\n",
       "      <th></th>\n",
       "      <th>cnpj_basico</th>\n",
       "      <th>identificador_de_socio</th>\n",
       "      <th>nome_do_socio_ou_razao_social</th>\n",
       "      <th>cnpj_ou_cpf_do_socio</th>\n",
       "      <th>qualificacao_do_socio</th>\n",
       "      <th>data_de_entrada_sociedade</th>\n",
       "      <th>pais</th>\n",
       "      <th>representante_legal</th>\n",
       "      <th>nome_do_representante</th>\n",
       "      <th>qualificacao_do_representante_legal</th>\n",
       "      <th>faixa_etaria</th>\n",
       "    </tr>\n",
       "  </thead>\n",
       "  <tbody>\n",
       "    <tr>\n",
       "      <th>0</th>\n",
       "      <td>411</td>\n",
       "      <td>2</td>\n",
       "      <td>LILIANA PATRICIA GUASTAVINO</td>\n",
       "      <td>***678188**</td>\n",
       "      <td>22</td>\n",
       "      <td>19940725</td>\n",
       "      <td>NaN</td>\n",
       "      <td>***000000**</td>\n",
       "      <td>None</td>\n",
       "      <td>0</td>\n",
       "      <td>7</td>\n",
       "    </tr>\n",
       "    <tr>\n",
       "      <th>1</th>\n",
       "      <td>411</td>\n",
       "      <td>2</td>\n",
       "      <td>CRISTINA HUNDERTMARK</td>\n",
       "      <td>***637848**</td>\n",
       "      <td>28</td>\n",
       "      <td>19940725</td>\n",
       "      <td>NaN</td>\n",
       "      <td>***000000**</td>\n",
       "      <td>None</td>\n",
       "      <td>0</td>\n",
       "      <td>7</td>\n",
       "    </tr>\n",
       "    <tr>\n",
       "      <th>2</th>\n",
       "      <td>5813</td>\n",
       "      <td>2</td>\n",
       "      <td>CELSO EDUARDO DE CASTRO STEPHAN</td>\n",
       "      <td>***786068**</td>\n",
       "      <td>49</td>\n",
       "      <td>19940516</td>\n",
       "      <td>NaN</td>\n",
       "      <td>***000000**</td>\n",
       "      <td>None</td>\n",
       "      <td>0</td>\n",
       "      <td>8</td>\n",
       "    </tr>\n",
       "    <tr>\n",
       "      <th>3</th>\n",
       "      <td>5813</td>\n",
       "      <td>2</td>\n",
       "      <td>EDUARDO BERRINGER STEPHAN</td>\n",
       "      <td>***442348**</td>\n",
       "      <td>49</td>\n",
       "      <td>19940516</td>\n",
       "      <td>NaN</td>\n",
       "      <td>***000000**</td>\n",
       "      <td>None</td>\n",
       "      <td>0</td>\n",
       "      <td>5</td>\n",
       "    </tr>\n",
       "    <tr>\n",
       "      <th>4</th>\n",
       "      <td>14798</td>\n",
       "      <td>2</td>\n",
       "      <td>HANNE MAHFOUD FADEL</td>\n",
       "      <td>***760388**</td>\n",
       "      <td>49</td>\n",
       "      <td>19940609</td>\n",
       "      <td>NaN</td>\n",
       "      <td>***000000**</td>\n",
       "      <td>None</td>\n",
       "      <td>0</td>\n",
       "      <td>8</td>\n",
       "    </tr>\n",
       "  </tbody>\n",
       "</table>\n",
       "</div>"
      ],
      "text/plain": [
       "   cnpj_basico  identificador_de_socio    nome_do_socio_ou_razao_social  \\\n",
       "0          411                       2      LILIANA PATRICIA GUASTAVINO   \n",
       "1          411                       2             CRISTINA HUNDERTMARK   \n",
       "2         5813                       2  CELSO EDUARDO DE CASTRO STEPHAN   \n",
       "3         5813                       2        EDUARDO BERRINGER STEPHAN   \n",
       "4        14798                       2              HANNE MAHFOUD FADEL   \n",
       "\n",
       "  cnpj_ou_cpf_do_socio  qualificacao_do_socio  data_de_entrada_sociedade  \\\n",
       "0          ***678188**                     22                   19940725   \n",
       "1          ***637848**                     28                   19940725   \n",
       "2          ***786068**                     49                   19940516   \n",
       "3          ***442348**                     49                   19940516   \n",
       "4          ***760388**                     49                   19940609   \n",
       "\n",
       "   pais representante_legal nome_do_representante  \\\n",
       "0   NaN         ***000000**                  None   \n",
       "1   NaN         ***000000**                  None   \n",
       "2   NaN         ***000000**                  None   \n",
       "3   NaN         ***000000**                  None   \n",
       "4   NaN         ***000000**                  None   \n",
       "\n",
       "   qualificacao_do_representante_legal  faixa_etaria  \n",
       "0                                    0             7  \n",
       "1                                    0             7  \n",
       "2                                    0             8  \n",
       "3                                    0             5  \n",
       "4                                    0             8  "
      ]
     },
     "execution_count": 22,
     "metadata": {},
     "output_type": "execute_result"
    }
   ],
   "source": [
    "socios.limit(5).toPandas()"
   ]
  },
  {
   "cell_type": "code",
   "execution_count": 23,
   "metadata": {},
   "outputs": [
    {
     "name": "stdout",
     "output_type": "stream",
     "text": [
      "root\n",
      " |-- cnpj_basico: integer (nullable = true)\n",
      " |-- identificador_de_socio: integer (nullable = true)\n",
      " |-- nome_do_socio_ou_razao_social: string (nullable = true)\n",
      " |-- cnpj_ou_cpf_do_socio: string (nullable = true)\n",
      " |-- qualificacao_do_socio: integer (nullable = true)\n",
      " |-- data_de_entrada_sociedade: integer (nullable = true)\n",
      " |-- pais: integer (nullable = true)\n",
      " |-- representante_legal: string (nullable = true)\n",
      " |-- nome_do_representante: string (nullable = true)\n",
      " |-- qualificacao_do_representante_legal: integer (nullable = true)\n",
      " |-- faixa_etaria: integer (nullable = true)\n",
      "\n"
     ]
    }
   ],
   "source": [
    "socios.printSchema()"
   ]
  },
  {
   "cell_type": "markdown",
   "metadata": {},
   "source": [
    "## Convertendo os dados"
   ]
  },
  {
   "cell_type": "markdown",
   "metadata": {},
   "source": [
    "[Data Types](https://spark.apache.org/docs/3.1.2/api/python/reference/pyspark.sql.html#data-types)"
   ]
  },
  {
   "cell_type": "markdown",
   "metadata": {},
   "source": [
    "##### Convertendo String   -> Double\n",
    "##### `StringType -> DoubleType`"
   ]
  },
  {
   "cell_type": "code",
   "execution_count": 24,
   "metadata": {},
   "outputs": [],
   "source": [
    "from pyspark.sql.types import DoubleType,StringType\n",
    "from pyspark.sql import functions as f"
   ]
  },
  {
   "cell_type": "code",
   "execution_count": 25,
   "metadata": {},
   "outputs": [
    {
     "name": "stdout",
     "output_type": "stream",
     "text": [
      "root\n",
      " |-- cnpj_basico: integer (nullable = true)\n",
      " |-- razao_social_nome_empresarial: string (nullable = true)\n",
      " |-- natureza_juridica: integer (nullable = true)\n",
      " |-- qualificacao_do_responsavel: integer (nullable = true)\n",
      " |-- capital_social_da_empresa: string (nullable = true)\n",
      " |-- porte_da_empresa: integer (nullable = true)\n",
      " |-- ente_federativo_responsavel: string (nullable = true)\n",
      "\n"
     ]
    }
   ],
   "source": [
    "empresas.printSchema()"
   ]
  },
  {
   "cell_type": "code",
   "execution_count": 26,
   "metadata": {},
   "outputs": [
    {
     "data": {
      "text/html": [
       "<div>\n",
       "<style scoped>\n",
       "    .dataframe tbody tr th:only-of-type {\n",
       "        vertical-align: middle;\n",
       "    }\n",
       "\n",
       "    .dataframe tbody tr th {\n",
       "        vertical-align: top;\n",
       "    }\n",
       "\n",
       "    .dataframe thead th {\n",
       "        text-align: right;\n",
       "    }\n",
       "</style>\n",
       "<table border=\"1\" class=\"dataframe\">\n",
       "  <thead>\n",
       "    <tr style=\"text-align: right;\">\n",
       "      <th></th>\n",
       "      <th>cnpj_basico</th>\n",
       "      <th>razao_social_nome_empresarial</th>\n",
       "      <th>natureza_juridica</th>\n",
       "      <th>qualificacao_do_responsavel</th>\n",
       "      <th>capital_social_da_empresa</th>\n",
       "      <th>porte_da_empresa</th>\n",
       "      <th>ente_federativo_responsavel</th>\n",
       "    </tr>\n",
       "  </thead>\n",
       "  <tbody>\n",
       "    <tr>\n",
       "      <th>0</th>\n",
       "      <td>306</td>\n",
       "      <td>FRANCAMAR REFRIGERACAO TECNICA S/C LTDA</td>\n",
       "      <td>2240</td>\n",
       "      <td>49</td>\n",
       "      <td>0,00</td>\n",
       "      <td>1</td>\n",
       "      <td>None</td>\n",
       "    </tr>\n",
       "    <tr>\n",
       "      <th>1</th>\n",
       "      <td>1355</td>\n",
       "      <td>BRASILEIRO &amp; OLIVEIRA LTDA</td>\n",
       "      <td>2062</td>\n",
       "      <td>49</td>\n",
       "      <td>0,00</td>\n",
       "      <td>5</td>\n",
       "      <td>None</td>\n",
       "    </tr>\n",
       "    <tr>\n",
       "      <th>2</th>\n",
       "      <td>4820</td>\n",
       "      <td>REGISTRO DE IMOVEIS, TABELIONATO 1 DE NOTAS E ...</td>\n",
       "      <td>3034</td>\n",
       "      <td>32</td>\n",
       "      <td>0,00</td>\n",
       "      <td>5</td>\n",
       "      <td>None</td>\n",
       "    </tr>\n",
       "    <tr>\n",
       "      <th>3</th>\n",
       "      <td>5347</td>\n",
       "      <td>ROSELY APARECIDA MONTEIRO CALTABIANO FREITAS</td>\n",
       "      <td>2135</td>\n",
       "      <td>50</td>\n",
       "      <td>0,00</td>\n",
       "      <td>5</td>\n",
       "      <td>None</td>\n",
       "    </tr>\n",
       "    <tr>\n",
       "      <th>4</th>\n",
       "      <td>6846</td>\n",
       "      <td>BADU E FILHOS TECIDOS LTDA</td>\n",
       "      <td>2062</td>\n",
       "      <td>49</td>\n",
       "      <td>4000,00</td>\n",
       "      <td>1</td>\n",
       "      <td>None</td>\n",
       "    </tr>\n",
       "  </tbody>\n",
       "</table>\n",
       "</div>"
      ],
      "text/plain": [
       "   cnpj_basico                      razao_social_nome_empresarial  \\\n",
       "0          306            FRANCAMAR REFRIGERACAO TECNICA S/C LTDA   \n",
       "1         1355                         BRASILEIRO & OLIVEIRA LTDA   \n",
       "2         4820  REGISTRO DE IMOVEIS, TABELIONATO 1 DE NOTAS E ...   \n",
       "3         5347       ROSELY APARECIDA MONTEIRO CALTABIANO FREITAS   \n",
       "4         6846                         BADU E FILHOS TECIDOS LTDA   \n",
       "\n",
       "   natureza_juridica  qualificacao_do_responsavel capital_social_da_empresa  \\\n",
       "0               2240                           49                      0,00   \n",
       "1               2062                           49                      0,00   \n",
       "2               3034                           32                      0,00   \n",
       "3               2135                           50                      0,00   \n",
       "4               2062                           49                   4000,00   \n",
       "\n",
       "   porte_da_empresa ente_federativo_responsavel  \n",
       "0                 1                        None  \n",
       "1                 5                        None  \n",
       "2                 5                        None  \n",
       "3                 5                        None  \n",
       "4                 1                        None  "
      ]
     },
     "execution_count": 26,
     "metadata": {},
     "output_type": "execute_result"
    }
   ],
   "source": [
    "empresas.limit(5).toPandas()"
   ]
  },
  {
   "cell_type": "code",
   "execution_count": 27,
   "metadata": {},
   "outputs": [],
   "source": [
    "empresas = empresas.withColumn(\"capital_social_da_empresa\",f.regexp_replace('capital_social_da_empresa',',','.'))"
   ]
  },
  {
   "cell_type": "code",
   "execution_count": 28,
   "metadata": {},
   "outputs": [],
   "source": [
    "empresas = empresas.withColumn(\"capital_social_da_empresa\",empresas['capital_social_da_empresa'].cast(DoubleType()))"
   ]
  },
  {
   "cell_type": "code",
   "execution_count": 29,
   "metadata": {},
   "outputs": [
    {
     "name": "stdout",
     "output_type": "stream",
     "text": [
      "root\n",
      " |-- cnpj_basico: integer (nullable = true)\n",
      " |-- razao_social_nome_empresarial: string (nullable = true)\n",
      " |-- natureza_juridica: integer (nullable = true)\n",
      " |-- qualificacao_do_responsavel: integer (nullable = true)\n",
      " |-- capital_social_da_empresa: double (nullable = true)\n",
      " |-- porte_da_empresa: integer (nullable = true)\n",
      " |-- ente_federativo_responsavel: string (nullable = true)\n",
      "\n"
     ]
    }
   ],
   "source": [
    "empresas.printSchema()"
   ]
  },
  {
   "cell_type": "markdown",
   "metadata": {},
   "source": [
    "##### `StringType -> Date`"
   ]
  },
  {
   "cell_type": "code",
   "execution_count": 30,
   "metadata": {},
   "outputs": [
    {
     "name": "stdout",
     "output_type": "stream",
     "text": [
      "root\n",
      " |-- cnpj_basico: integer (nullable = true)\n",
      " |-- cnpj_ordem: integer (nullable = true)\n",
      " |-- cnpj_dv: integer (nullable = true)\n",
      " |-- identificador_matriz_filial: integer (nullable = true)\n",
      " |-- nome_fantasia: string (nullable = true)\n",
      " |-- situacao_cadastral: integer (nullable = true)\n",
      " |-- data_situacao_cadastral: integer (nullable = true)\n",
      " |-- motivo_situacao_cadastral: integer (nullable = true)\n",
      " |-- nome_da_cidade_no_exterior: string (nullable = true)\n",
      " |-- pais: integer (nullable = true)\n",
      " |-- data_de_inicio_atividade: integer (nullable = true)\n",
      " |-- cnae_fiscal_principal: integer (nullable = true)\n",
      " |-- cnae_fiscal_secundaria: string (nullable = true)\n",
      " |-- tipo_de_logradouro: string (nullable = true)\n",
      " |-- logradouro: string (nullable = true)\n",
      " |-- numero: string (nullable = true)\n",
      " |-- complemento: string (nullable = true)\n",
      " |-- bairro: string (nullable = true)\n",
      " |-- cep: integer (nullable = true)\n",
      " |-- uf: string (nullable = true)\n",
      " |-- municipio: integer (nullable = true)\n",
      " |-- ddd_1: string (nullable = true)\n",
      " |-- telefone_1: string (nullable = true)\n",
      " |-- ddd_2: string (nullable = true)\n",
      " |-- telefone_2: string (nullable = true)\n",
      " |-- ddd_do_fax: integer (nullable = true)\n",
      " |-- fax: string (nullable = true)\n",
      " |-- correio_eletronico: string (nullable = true)\n",
      " |-- situacao_especial: string (nullable = true)\n",
      " |-- data_da_situacao_especial: integer (nullable = true)\n",
      "\n"
     ]
    }
   ],
   "source": [
    "estabelecimentos.printSchema()"
   ]
  },
  {
   "cell_type": "code",
   "execution_count": 31,
   "metadata": {},
   "outputs": [
    {
     "name": "stdout",
     "output_type": "stream",
     "text": [
      "root\n",
      " |-- cnpj_basico: integer (nullable = true)\n",
      " |-- cnpj_ordem: integer (nullable = true)\n",
      " |-- cnpj_dv: integer (nullable = true)\n",
      " |-- identificador_matriz_filial: integer (nullable = true)\n",
      " |-- nome_fantasia: string (nullable = true)\n",
      " |-- situacao_cadastral: integer (nullable = true)\n",
      " |-- data_situacao_cadastral: date (nullable = true)\n",
      " |-- motivo_situacao_cadastral: integer (nullable = true)\n",
      " |-- nome_da_cidade_no_exterior: string (nullable = true)\n",
      " |-- pais: integer (nullable = true)\n",
      " |-- data_de_inicio_atividade: date (nullable = true)\n",
      " |-- cnae_fiscal_principal: integer (nullable = true)\n",
      " |-- cnae_fiscal_secundaria: string (nullable = true)\n",
      " |-- tipo_de_logradouro: string (nullable = true)\n",
      " |-- logradouro: string (nullable = true)\n",
      " |-- numero: string (nullable = true)\n",
      " |-- complemento: string (nullable = true)\n",
      " |-- bairro: string (nullable = true)\n",
      " |-- cep: integer (nullable = true)\n",
      " |-- uf: string (nullable = true)\n",
      " |-- municipio: integer (nullable = true)\n",
      " |-- ddd_1: string (nullable = true)\n",
      " |-- telefone_1: string (nullable = true)\n",
      " |-- ddd_2: string (nullable = true)\n",
      " |-- telefone_2: string (nullable = true)\n",
      " |-- ddd_do_fax: integer (nullable = true)\n",
      " |-- fax: string (nullable = true)\n",
      " |-- correio_eletronico: string (nullable = true)\n",
      " |-- situacao_especial: string (nullable = true)\n",
      " |-- data_da_situacao_especial: date (nullable = true)\n",
      "\n"
     ]
    }
   ],
   "source": [
    "estabelecimentos = estabelecimentos\\\n",
    "    .withColumn(\n",
    "        \"data_situacao_cadastral\",\n",
    "        f.to_date(estabelecimentos.data_situacao_cadastral.cast(StringType()),\"yyyyMMdd\")\n",
    "    )\\\n",
    "    .withColumn(\n",
    "        \"data_de_inicio_atividade\",\n",
    "        f.to_date(estabelecimentos.data_de_inicio_atividade.cast(StringType()),\"yyyyMMdd\")\n",
    "    )\\\n",
    "    .withColumn(\n",
    "        \"data_da_situacao_especial\",\n",
    "        f.to_date(estabelecimentos.data_da_situacao_especial.cast(StringType()),\"yyyyMMdd\")\n",
    "    )\\\n",
    "\n",
    "\n",
    "estabelecimentos.printSchema()"
   ]
  },
  {
   "cell_type": "code",
   "execution_count": 32,
   "metadata": {},
   "outputs": [
    {
     "data": {
      "text/html": [
       "<div>\n",
       "<style scoped>\n",
       "    .dataframe tbody tr th:only-of-type {\n",
       "        vertical-align: middle;\n",
       "    }\n",
       "\n",
       "    .dataframe tbody tr th {\n",
       "        vertical-align: top;\n",
       "    }\n",
       "\n",
       "    .dataframe thead th {\n",
       "        text-align: right;\n",
       "    }\n",
       "</style>\n",
       "<table border=\"1\" class=\"dataframe\">\n",
       "  <thead>\n",
       "    <tr style=\"text-align: right;\">\n",
       "      <th></th>\n",
       "      <th>cnpj_basico</th>\n",
       "      <th>cnpj_ordem</th>\n",
       "      <th>cnpj_dv</th>\n",
       "      <th>identificador_matriz_filial</th>\n",
       "      <th>nome_fantasia</th>\n",
       "      <th>situacao_cadastral</th>\n",
       "      <th>data_situacao_cadastral</th>\n",
       "      <th>motivo_situacao_cadastral</th>\n",
       "      <th>nome_da_cidade_no_exterior</th>\n",
       "      <th>pais</th>\n",
       "      <th>...</th>\n",
       "      <th>municipio</th>\n",
       "      <th>ddd_1</th>\n",
       "      <th>telefone_1</th>\n",
       "      <th>ddd_2</th>\n",
       "      <th>telefone_2</th>\n",
       "      <th>ddd_do_fax</th>\n",
       "      <th>fax</th>\n",
       "      <th>correio_eletronico</th>\n",
       "      <th>situacao_especial</th>\n",
       "      <th>data_da_situacao_especial</th>\n",
       "    </tr>\n",
       "  </thead>\n",
       "  <tbody>\n",
       "    <tr>\n",
       "      <th>0</th>\n",
       "      <td>1879</td>\n",
       "      <td>1</td>\n",
       "      <td>96</td>\n",
       "      <td>1</td>\n",
       "      <td>PIRAMIDE M. C.</td>\n",
       "      <td>8</td>\n",
       "      <td>2001-10-29</td>\n",
       "      <td>1</td>\n",
       "      <td>None</td>\n",
       "      <td>NaN</td>\n",
       "      <td>...</td>\n",
       "      <td>7107</td>\n",
       "      <td>None</td>\n",
       "      <td>None</td>\n",
       "      <td>None</td>\n",
       "      <td>None</td>\n",
       "      <td>NaN</td>\n",
       "      <td>None</td>\n",
       "      <td>None</td>\n",
       "      <td>None</td>\n",
       "      <td>None</td>\n",
       "    </tr>\n",
       "    <tr>\n",
       "      <th>1</th>\n",
       "      <td>2818</td>\n",
       "      <td>1</td>\n",
       "      <td>43</td>\n",
       "      <td>1</td>\n",
       "      <td>None</td>\n",
       "      <td>8</td>\n",
       "      <td>2008-12-31</td>\n",
       "      <td>71</td>\n",
       "      <td>None</td>\n",
       "      <td>NaN</td>\n",
       "      <td>...</td>\n",
       "      <td>7107</td>\n",
       "      <td>None</td>\n",
       "      <td>None</td>\n",
       "      <td>None</td>\n",
       "      <td>None</td>\n",
       "      <td>NaN</td>\n",
       "      <td>None</td>\n",
       "      <td>None</td>\n",
       "      <td>None</td>\n",
       "      <td>None</td>\n",
       "    </tr>\n",
       "    <tr>\n",
       "      <th>2</th>\n",
       "      <td>3110</td>\n",
       "      <td>1</td>\n",
       "      <td>7</td>\n",
       "      <td>1</td>\n",
       "      <td>None</td>\n",
       "      <td>8</td>\n",
       "      <td>1997-12-31</td>\n",
       "      <td>1</td>\n",
       "      <td>None</td>\n",
       "      <td>NaN</td>\n",
       "      <td>...</td>\n",
       "      <td>7107</td>\n",
       "      <td>None</td>\n",
       "      <td>None</td>\n",
       "      <td>None</td>\n",
       "      <td>None</td>\n",
       "      <td>NaN</td>\n",
       "      <td>None</td>\n",
       "      <td>None</td>\n",
       "      <td>None</td>\n",
       "      <td>None</td>\n",
       "    </tr>\n",
       "    <tr>\n",
       "      <th>3</th>\n",
       "      <td>3733</td>\n",
       "      <td>1</td>\n",
       "      <td>80</td>\n",
       "      <td>1</td>\n",
       "      <td>None</td>\n",
       "      <td>8</td>\n",
       "      <td>2008-12-31</td>\n",
       "      <td>71</td>\n",
       "      <td>None</td>\n",
       "      <td>NaN</td>\n",
       "      <td>...</td>\n",
       "      <td>7107</td>\n",
       "      <td>None</td>\n",
       "      <td>None</td>\n",
       "      <td>None</td>\n",
       "      <td>None</td>\n",
       "      <td>NaN</td>\n",
       "      <td>None</td>\n",
       "      <td>None</td>\n",
       "      <td>None</td>\n",
       "      <td>None</td>\n",
       "    </tr>\n",
       "    <tr>\n",
       "      <th>4</th>\n",
       "      <td>4628</td>\n",
       "      <td>3</td>\n",
       "      <td>27</td>\n",
       "      <td>2</td>\n",
       "      <td>EMBROIDERY &amp; GIFT</td>\n",
       "      <td>8</td>\n",
       "      <td>1998-04-29</td>\n",
       "      <td>1</td>\n",
       "      <td>None</td>\n",
       "      <td>NaN</td>\n",
       "      <td>...</td>\n",
       "      <td>7075</td>\n",
       "      <td>None</td>\n",
       "      <td>None</td>\n",
       "      <td>None</td>\n",
       "      <td>None</td>\n",
       "      <td>NaN</td>\n",
       "      <td>None</td>\n",
       "      <td>None</td>\n",
       "      <td>None</td>\n",
       "      <td>None</td>\n",
       "    </tr>\n",
       "  </tbody>\n",
       "</table>\n",
       "<p>5 rows × 30 columns</p>\n",
       "</div>"
      ],
      "text/plain": [
       "   cnpj_basico  cnpj_ordem  cnpj_dv  identificador_matriz_filial  \\\n",
       "0         1879           1       96                            1   \n",
       "1         2818           1       43                            1   \n",
       "2         3110           1        7                            1   \n",
       "3         3733           1       80                            1   \n",
       "4         4628           3       27                            2   \n",
       "\n",
       "       nome_fantasia  situacao_cadastral data_situacao_cadastral  \\\n",
       "0     PIRAMIDE M. C.                   8              2001-10-29   \n",
       "1               None                   8              2008-12-31   \n",
       "2               None                   8              1997-12-31   \n",
       "3               None                   8              2008-12-31   \n",
       "4  EMBROIDERY & GIFT                   8              1998-04-29   \n",
       "\n",
       "   motivo_situacao_cadastral nome_da_cidade_no_exterior  pais  ... municipio  \\\n",
       "0                          1                       None   NaN  ...      7107   \n",
       "1                         71                       None   NaN  ...      7107   \n",
       "2                          1                       None   NaN  ...      7107   \n",
       "3                         71                       None   NaN  ...      7107   \n",
       "4                          1                       None   NaN  ...      7075   \n",
       "\n",
       "   ddd_1 telefone_1 ddd_2 telefone_2 ddd_do_fax   fax correio_eletronico  \\\n",
       "0   None       None  None       None        NaN  None               None   \n",
       "1   None       None  None       None        NaN  None               None   \n",
       "2   None       None  None       None        NaN  None               None   \n",
       "3   None       None  None       None        NaN  None               None   \n",
       "4   None       None  None       None        NaN  None               None   \n",
       "\n",
       "   situacao_especial data_da_situacao_especial  \n",
       "0               None                      None  \n",
       "1               None                      None  \n",
       "2               None                      None  \n",
       "3               None                      None  \n",
       "4               None                      None  \n",
       "\n",
       "[5 rows x 30 columns]"
      ]
     },
     "execution_count": 32,
     "metadata": {},
     "output_type": "execute_result"
    }
   ],
   "source": [
    "estabelecimentos.limit(5).toPandas()"
   ]
  },
  {
   "cell_type": "code",
   "execution_count": 33,
   "metadata": {},
   "outputs": [
    {
     "name": "stdout",
     "output_type": "stream",
     "text": [
      "root\n",
      " |-- cnpj_basico: integer (nullable = true)\n",
      " |-- identificador_de_socio: integer (nullable = true)\n",
      " |-- nome_do_socio_ou_razao_social: string (nullable = true)\n",
      " |-- cnpj_ou_cpf_do_socio: string (nullable = true)\n",
      " |-- qualificacao_do_socio: integer (nullable = true)\n",
      " |-- data_de_entrada_sociedade: integer (nullable = true)\n",
      " |-- pais: integer (nullable = true)\n",
      " |-- representante_legal: string (nullable = true)\n",
      " |-- nome_do_representante: string (nullable = true)\n",
      " |-- qualificacao_do_representante_legal: integer (nullable = true)\n",
      " |-- faixa_etaria: integer (nullable = true)\n",
      "\n"
     ]
    }
   ],
   "source": [
    "socios.printSchema()"
   ]
  },
  {
   "cell_type": "code",
   "execution_count": 34,
   "metadata": {},
   "outputs": [
    {
     "name": "stdout",
     "output_type": "stream",
     "text": [
      "root\n",
      " |-- cnpj_basico: integer (nullable = true)\n",
      " |-- identificador_de_socio: integer (nullable = true)\n",
      " |-- nome_do_socio_ou_razao_social: string (nullable = true)\n",
      " |-- cnpj_ou_cpf_do_socio: string (nullable = true)\n",
      " |-- qualificacao_do_socio: integer (nullable = true)\n",
      " |-- data_de_entrada_sociedade: date (nullable = true)\n",
      " |-- pais: integer (nullable = true)\n",
      " |-- representante_legal: string (nullable = true)\n",
      " |-- nome_do_representante: string (nullable = true)\n",
      " |-- qualificacao_do_representante_legal: integer (nullable = true)\n",
      " |-- faixa_etaria: integer (nullable = true)\n",
      "\n"
     ]
    }
   ],
   "source": [
    "socios = socios\\\n",
    "    .withColumn(\n",
    "        \"data_de_entrada_sociedade\",\n",
    "        f.to_date(socios.data_de_entrada_sociedade.cast(StringType()),\"yyyyMMdd\")\n",
    "    )\n",
    "\n",
    "socios.printSchema()"
   ]
  },
  {
   "cell_type": "code",
   "execution_count": 35,
   "metadata": {},
   "outputs": [
    {
     "data": {
      "text/html": [
       "<div>\n",
       "<style scoped>\n",
       "    .dataframe tbody tr th:only-of-type {\n",
       "        vertical-align: middle;\n",
       "    }\n",
       "\n",
       "    .dataframe tbody tr th {\n",
       "        vertical-align: top;\n",
       "    }\n",
       "\n",
       "    .dataframe thead th {\n",
       "        text-align: right;\n",
       "    }\n",
       "</style>\n",
       "<table border=\"1\" class=\"dataframe\">\n",
       "  <thead>\n",
       "    <tr style=\"text-align: right;\">\n",
       "      <th></th>\n",
       "      <th>cnpj_basico</th>\n",
       "      <th>identificador_de_socio</th>\n",
       "      <th>nome_do_socio_ou_razao_social</th>\n",
       "      <th>cnpj_ou_cpf_do_socio</th>\n",
       "      <th>qualificacao_do_socio</th>\n",
       "      <th>data_de_entrada_sociedade</th>\n",
       "      <th>pais</th>\n",
       "      <th>representante_legal</th>\n",
       "      <th>nome_do_representante</th>\n",
       "      <th>qualificacao_do_representante_legal</th>\n",
       "      <th>faixa_etaria</th>\n",
       "    </tr>\n",
       "  </thead>\n",
       "  <tbody>\n",
       "    <tr>\n",
       "      <th>0</th>\n",
       "      <td>411</td>\n",
       "      <td>2</td>\n",
       "      <td>LILIANA PATRICIA GUASTAVINO</td>\n",
       "      <td>***678188**</td>\n",
       "      <td>22</td>\n",
       "      <td>1994-07-25</td>\n",
       "      <td>NaN</td>\n",
       "      <td>***000000**</td>\n",
       "      <td>None</td>\n",
       "      <td>0</td>\n",
       "      <td>7</td>\n",
       "    </tr>\n",
       "    <tr>\n",
       "      <th>1</th>\n",
       "      <td>411</td>\n",
       "      <td>2</td>\n",
       "      <td>CRISTINA HUNDERTMARK</td>\n",
       "      <td>***637848**</td>\n",
       "      <td>28</td>\n",
       "      <td>1994-07-25</td>\n",
       "      <td>NaN</td>\n",
       "      <td>***000000**</td>\n",
       "      <td>None</td>\n",
       "      <td>0</td>\n",
       "      <td>7</td>\n",
       "    </tr>\n",
       "    <tr>\n",
       "      <th>2</th>\n",
       "      <td>5813</td>\n",
       "      <td>2</td>\n",
       "      <td>CELSO EDUARDO DE CASTRO STEPHAN</td>\n",
       "      <td>***786068**</td>\n",
       "      <td>49</td>\n",
       "      <td>1994-05-16</td>\n",
       "      <td>NaN</td>\n",
       "      <td>***000000**</td>\n",
       "      <td>None</td>\n",
       "      <td>0</td>\n",
       "      <td>8</td>\n",
       "    </tr>\n",
       "    <tr>\n",
       "      <th>3</th>\n",
       "      <td>5813</td>\n",
       "      <td>2</td>\n",
       "      <td>EDUARDO BERRINGER STEPHAN</td>\n",
       "      <td>***442348**</td>\n",
       "      <td>49</td>\n",
       "      <td>1994-05-16</td>\n",
       "      <td>NaN</td>\n",
       "      <td>***000000**</td>\n",
       "      <td>None</td>\n",
       "      <td>0</td>\n",
       "      <td>5</td>\n",
       "    </tr>\n",
       "    <tr>\n",
       "      <th>4</th>\n",
       "      <td>14798</td>\n",
       "      <td>2</td>\n",
       "      <td>HANNE MAHFOUD FADEL</td>\n",
       "      <td>***760388**</td>\n",
       "      <td>49</td>\n",
       "      <td>1994-06-09</td>\n",
       "      <td>NaN</td>\n",
       "      <td>***000000**</td>\n",
       "      <td>None</td>\n",
       "      <td>0</td>\n",
       "      <td>8</td>\n",
       "    </tr>\n",
       "  </tbody>\n",
       "</table>\n",
       "</div>"
      ],
      "text/plain": [
       "   cnpj_basico  identificador_de_socio    nome_do_socio_ou_razao_social  \\\n",
       "0          411                       2      LILIANA PATRICIA GUASTAVINO   \n",
       "1          411                       2             CRISTINA HUNDERTMARK   \n",
       "2         5813                       2  CELSO EDUARDO DE CASTRO STEPHAN   \n",
       "3         5813                       2        EDUARDO BERRINGER STEPHAN   \n",
       "4        14798                       2              HANNE MAHFOUD FADEL   \n",
       "\n",
       "  cnpj_ou_cpf_do_socio  qualificacao_do_socio data_de_entrada_sociedade  pais  \\\n",
       "0          ***678188**                     22                1994-07-25   NaN   \n",
       "1          ***637848**                     28                1994-07-25   NaN   \n",
       "2          ***786068**                     49                1994-05-16   NaN   \n",
       "3          ***442348**                     49                1994-05-16   NaN   \n",
       "4          ***760388**                     49                1994-06-09   NaN   \n",
       "\n",
       "  representante_legal nome_do_representante  \\\n",
       "0         ***000000**                  None   \n",
       "1         ***000000**                  None   \n",
       "2         ***000000**                  None   \n",
       "3         ***000000**                  None   \n",
       "4         ***000000**                  None   \n",
       "\n",
       "   qualificacao_do_representante_legal  faixa_etaria  \n",
       "0                                    0             7  \n",
       "1                                    0             7  \n",
       "2                                    0             8  \n",
       "3                                    0             5  \n",
       "4                                    0             8  "
      ]
     },
     "execution_count": 35,
     "metadata": {},
     "output_type": "execute_result"
    }
   ],
   "source": [
    "socios.limit(5).toPandas()"
   ]
  },
  {
   "cell_type": "markdown",
   "metadata": {},
   "source": [
    "## Seleções e Consultas"
   ]
  },
  {
   "cell_type": "markdown",
   "metadata": {},
   "source": [
    "#### Selecionando Informações"
   ]
  },
  {
   "cell_type": "code",
   "execution_count": 36,
   "metadata": {},
   "outputs": [
    {
     "name": "stdout",
     "output_type": "stream",
     "text": [
      "+-----------+--------------------------------------------------------------------------------------------+-----------------+---------------------------+-------------------------+----------------+---------------------------+\n",
      "|cnpj_basico|razao_social_nome_empresarial                                                               |natureza_juridica|qualificacao_do_responsavel|capital_social_da_empresa|porte_da_empresa|ente_federativo_responsavel|\n",
      "+-----------+--------------------------------------------------------------------------------------------+-----------------+---------------------------+-------------------------+----------------+---------------------------+\n",
      "|306        |FRANCAMAR REFRIGERACAO TECNICA S/C LTDA                                                     |2240             |49                         |0.0                      |1               |null                       |\n",
      "|1355       |BRASILEIRO & OLIVEIRA LTDA                                                                  |2062             |49                         |0.0                      |5               |null                       |\n",
      "|4820       |REGISTRO DE IMOVEIS, TABELIONATO 1 DE NOTAS E TABELIONATO E REGISTRO DE CONSTRATOS MARITIMOS|3034             |32                         |0.0                      |5               |null                       |\n",
      "|5347       |ROSELY APARECIDA MONTEIRO CALTABIANO FREITAS                                                |2135             |50                         |0.0                      |5               |null                       |\n",
      "|6846       |BADU E FILHOS TECIDOS LTDA                                                                  |2062             |49                         |4000.0                   |1               |null                       |\n",
      "+-----------+--------------------------------------------------------------------------------------------+-----------------+---------------------------+-------------------------+----------------+---------------------------+\n",
      "only showing top 5 rows\n",
      "\n"
     ]
    }
   ],
   "source": [
    "empresas\\\n",
    "    .select('*')\\\n",
    "    .show(5,False)"
   ]
  },
  {
   "cell_type": "code",
   "execution_count": 37,
   "metadata": {},
   "outputs": [
    {
     "name": "stdout",
     "output_type": "stream",
     "text": [
      "+-----------------+----------------+-------------------------+\n",
      "|natureza_juridica|porte_da_empresa|capital_social_da_empresa|\n",
      "+-----------------+----------------+-------------------------+\n",
      "|2240             |1               |0.0                      |\n",
      "|2062             |5               |0.0                      |\n",
      "|3034             |5               |0.0                      |\n",
      "|2135             |5               |0.0                      |\n",
      "|2062             |1               |4000.0                   |\n",
      "+-----------------+----------------+-------------------------+\n",
      "only showing top 5 rows\n",
      "\n"
     ]
    }
   ],
   "source": [
    "empresas\\\n",
    "    .select('natureza_juridica','porte_da_empresa','capital_social_da_empresa')\\\n",
    "    .show(5,False)"
   ]
  },
  {
   "cell_type": "code",
   "execution_count": 38,
   "metadata": {},
   "outputs": [
    {
     "name": "stdout",
     "output_type": "stream",
     "text": [
      "root\n",
      " |-- cnpj_basico: integer (nullable = true)\n",
      " |-- identificador_de_socio: integer (nullable = true)\n",
      " |-- nome_do_socio_ou_razao_social: string (nullable = true)\n",
      " |-- cnpj_ou_cpf_do_socio: string (nullable = true)\n",
      " |-- qualificacao_do_socio: integer (nullable = true)\n",
      " |-- data_de_entrada_sociedade: date (nullable = true)\n",
      " |-- pais: integer (nullable = true)\n",
      " |-- representante_legal: string (nullable = true)\n",
      " |-- nome_do_representante: string (nullable = true)\n",
      " |-- qualificacao_do_representante_legal: integer (nullable = true)\n",
      " |-- faixa_etaria: integer (nullable = true)\n",
      "\n"
     ]
    }
   ],
   "source": [
    "socios.printSchema()"
   ]
  },
  {
   "cell_type": "code",
   "execution_count": 39,
   "metadata": {},
   "outputs": [
    {
     "name": "stdout",
     "output_type": "stream",
     "text": [
      "+-------------------------------+------------+--------------+\n",
      "|nome_do_socio_ou_razao_social  |faixa_etaria|ano_de_entrada|\n",
      "+-------------------------------+------------+--------------+\n",
      "|LILIANA PATRICIA GUASTAVINO    |7           |1994          |\n",
      "|CRISTINA HUNDERTMARK           |7           |1994          |\n",
      "|CELSO EDUARDO DE CASTRO STEPHAN|8           |1994          |\n",
      "|EDUARDO BERRINGER STEPHAN      |5           |1994          |\n",
      "|HANNE MAHFOUD FADEL            |8           |1994          |\n",
      "+-------------------------------+------------+--------------+\n",
      "only showing top 5 rows\n",
      "\n"
     ]
    }
   ],
   "source": [
    "socios\\\n",
    "    .select('nome_do_socio_ou_razao_social','faixa_etaria',f.year('data_de_entrada_sociedade').alias('ano_de_entrada'))\\\n",
    "    .show(5,False)"
   ]
  },
  {
   "cell_type": "code",
   "execution_count": 40,
   "metadata": {},
   "outputs": [
    {
     "name": "stdout",
     "output_type": "stream",
     "text": [
      "root\n",
      " |-- cnpj_basico: integer (nullable = true)\n",
      " |-- cnpj_ordem: integer (nullable = true)\n",
      " |-- cnpj_dv: integer (nullable = true)\n",
      " |-- identificador_matriz_filial: integer (nullable = true)\n",
      " |-- nome_fantasia: string (nullable = true)\n",
      " |-- situacao_cadastral: integer (nullable = true)\n",
      " |-- data_situacao_cadastral: date (nullable = true)\n",
      " |-- motivo_situacao_cadastral: integer (nullable = true)\n",
      " |-- nome_da_cidade_no_exterior: string (nullable = true)\n",
      " |-- pais: integer (nullable = true)\n",
      " |-- data_de_inicio_atividade: date (nullable = true)\n",
      " |-- cnae_fiscal_principal: integer (nullable = true)\n",
      " |-- cnae_fiscal_secundaria: string (nullable = true)\n",
      " |-- tipo_de_logradouro: string (nullable = true)\n",
      " |-- logradouro: string (nullable = true)\n",
      " |-- numero: string (nullable = true)\n",
      " |-- complemento: string (nullable = true)\n",
      " |-- bairro: string (nullable = true)\n",
      " |-- cep: integer (nullable = true)\n",
      " |-- uf: string (nullable = true)\n",
      " |-- municipio: integer (nullable = true)\n",
      " |-- ddd_1: string (nullable = true)\n",
      " |-- telefone_1: string (nullable = true)\n",
      " |-- ddd_2: string (nullable = true)\n",
      " |-- telefone_2: string (nullable = true)\n",
      " |-- ddd_do_fax: integer (nullable = true)\n",
      " |-- fax: string (nullable = true)\n",
      " |-- correio_eletronico: string (nullable = true)\n",
      " |-- situacao_especial: string (nullable = true)\n",
      " |-- data_da_situacao_especial: date (nullable = true)\n",
      "\n"
     ]
    }
   ],
   "source": [
    "estabelecimentos.printSchema()"
   ]
  },
  {
   "cell_type": "code",
   "execution_count": 41,
   "metadata": {},
   "outputs": [
    {
     "name": "stdout",
     "output_type": "stream",
     "text": [
      "+-----------------+---------+-----------------------+-----------------------+\n",
      "|nome_fantasia    |municipio|ano_de_inicio_atividade|mes_de_inicio_atividade|\n",
      "+-----------------+---------+-----------------------+-----------------------+\n",
      "|PIRAMIDE M. C.   |7107     |1994                   |5                      |\n",
      "|null             |7107     |1994                   |5                      |\n",
      "|null             |7107     |1994                   |5                      |\n",
      "|null             |7107     |1994                   |5                      |\n",
      "|EMBROIDERY & GIFT|7075     |1995                   |5                      |\n",
      "+-----------------+---------+-----------------------+-----------------------+\n",
      "only showing top 5 rows\n",
      "\n"
     ]
    }
   ],
   "source": [
    "estabelecimentos\\\n",
    "    .select('nome_fantasia','municipio',f.year('data_de_inicio_atividade').alias('ano_de_inicio_atividade'),\n",
    "                                        f.month('data_de_inicio_atividade').alias('mes_de_inicio_atividade'))\\\n",
    "    .show(5,False)"
   ]
  },
  {
   "cell_type": "markdown",
   "metadata": {},
   "source": [
    "#### Identificando valores nulos"
   ]
  },
  {
   "cell_type": "code",
   "execution_count": 42,
   "metadata": {},
   "outputs": [
    {
     "data": {
      "text/html": [
       "<div>\n",
       "<style scoped>\n",
       "    .dataframe tbody tr th:only-of-type {\n",
       "        vertical-align: middle;\n",
       "    }\n",
       "\n",
       "    .dataframe tbody tr th {\n",
       "        vertical-align: top;\n",
       "    }\n",
       "\n",
       "    .dataframe thead th {\n",
       "        text-align: right;\n",
       "    }\n",
       "</style>\n",
       "<table border=\"1\" class=\"dataframe\">\n",
       "  <thead>\n",
       "    <tr style=\"text-align: right;\">\n",
       "      <th></th>\n",
       "      <th>cnpj_basico</th>\n",
       "      <th>identificador_de_socio</th>\n",
       "      <th>nome_do_socio_ou_razao_social</th>\n",
       "      <th>cnpj_ou_cpf_do_socio</th>\n",
       "      <th>qualificacao_do_socio</th>\n",
       "      <th>data_de_entrada_sociedade</th>\n",
       "      <th>pais</th>\n",
       "      <th>representante_legal</th>\n",
       "      <th>nome_do_representante</th>\n",
       "      <th>qualificacao_do_representante_legal</th>\n",
       "      <th>faixa_etaria</th>\n",
       "    </tr>\n",
       "  </thead>\n",
       "  <tbody>\n",
       "    <tr>\n",
       "      <th>0</th>\n",
       "      <td>411</td>\n",
       "      <td>2</td>\n",
       "      <td>LILIANA PATRICIA GUASTAVINO</td>\n",
       "      <td>***678188**</td>\n",
       "      <td>22</td>\n",
       "      <td>1994-07-25</td>\n",
       "      <td>NaN</td>\n",
       "      <td>***000000**</td>\n",
       "      <td>None</td>\n",
       "      <td>0</td>\n",
       "      <td>7</td>\n",
       "    </tr>\n",
       "    <tr>\n",
       "      <th>1</th>\n",
       "      <td>411</td>\n",
       "      <td>2</td>\n",
       "      <td>CRISTINA HUNDERTMARK</td>\n",
       "      <td>***637848**</td>\n",
       "      <td>28</td>\n",
       "      <td>1994-07-25</td>\n",
       "      <td>NaN</td>\n",
       "      <td>***000000**</td>\n",
       "      <td>None</td>\n",
       "      <td>0</td>\n",
       "      <td>7</td>\n",
       "    </tr>\n",
       "    <tr>\n",
       "      <th>2</th>\n",
       "      <td>5813</td>\n",
       "      <td>2</td>\n",
       "      <td>CELSO EDUARDO DE CASTRO STEPHAN</td>\n",
       "      <td>***786068**</td>\n",
       "      <td>49</td>\n",
       "      <td>1994-05-16</td>\n",
       "      <td>NaN</td>\n",
       "      <td>***000000**</td>\n",
       "      <td>None</td>\n",
       "      <td>0</td>\n",
       "      <td>8</td>\n",
       "    </tr>\n",
       "    <tr>\n",
       "      <th>3</th>\n",
       "      <td>5813</td>\n",
       "      <td>2</td>\n",
       "      <td>EDUARDO BERRINGER STEPHAN</td>\n",
       "      <td>***442348**</td>\n",
       "      <td>49</td>\n",
       "      <td>1994-05-16</td>\n",
       "      <td>NaN</td>\n",
       "      <td>***000000**</td>\n",
       "      <td>None</td>\n",
       "      <td>0</td>\n",
       "      <td>5</td>\n",
       "    </tr>\n",
       "    <tr>\n",
       "      <th>4</th>\n",
       "      <td>14798</td>\n",
       "      <td>2</td>\n",
       "      <td>HANNE MAHFOUD FADEL</td>\n",
       "      <td>***760388**</td>\n",
       "      <td>49</td>\n",
       "      <td>1994-06-09</td>\n",
       "      <td>NaN</td>\n",
       "      <td>***000000**</td>\n",
       "      <td>None</td>\n",
       "      <td>0</td>\n",
       "      <td>8</td>\n",
       "    </tr>\n",
       "  </tbody>\n",
       "</table>\n",
       "</div>"
      ],
      "text/plain": [
       "   cnpj_basico  identificador_de_socio    nome_do_socio_ou_razao_social  \\\n",
       "0          411                       2      LILIANA PATRICIA GUASTAVINO   \n",
       "1          411                       2             CRISTINA HUNDERTMARK   \n",
       "2         5813                       2  CELSO EDUARDO DE CASTRO STEPHAN   \n",
       "3         5813                       2        EDUARDO BERRINGER STEPHAN   \n",
       "4        14798                       2              HANNE MAHFOUD FADEL   \n",
       "\n",
       "  cnpj_ou_cpf_do_socio  qualificacao_do_socio data_de_entrada_sociedade  pais  \\\n",
       "0          ***678188**                     22                1994-07-25   NaN   \n",
       "1          ***637848**                     28                1994-07-25   NaN   \n",
       "2          ***786068**                     49                1994-05-16   NaN   \n",
       "3          ***442348**                     49                1994-05-16   NaN   \n",
       "4          ***760388**                     49                1994-06-09   NaN   \n",
       "\n",
       "  representante_legal nome_do_representante  \\\n",
       "0         ***000000**                  None   \n",
       "1         ***000000**                  None   \n",
       "2         ***000000**                  None   \n",
       "3         ***000000**                  None   \n",
       "4         ***000000**                  None   \n",
       "\n",
       "   qualificacao_do_representante_legal  faixa_etaria  \n",
       "0                                    0             7  \n",
       "1                                    0             7  \n",
       "2                                    0             8  \n",
       "3                                    0             5  \n",
       "4                                    0             8  "
      ]
     },
     "execution_count": 42,
     "metadata": {},
     "output_type": "execute_result"
    }
   ],
   "source": [
    "socios.limit(5).toPandas()"
   ]
  },
  {
   "cell_type": "code",
   "execution_count": 43,
   "metadata": {},
   "outputs": [
    {
     "name": "stdout",
     "output_type": "stream",
     "text": [
      "+-----------+----------------------+-----------------------------+--------------------+---------------------+-------------------------+----+-------------------+---------------------+-----------------------------------+------------+\n",
      "|cnpj_basico|identificador_de_socio|nome_do_socio_ou_razao_social|cnpj_ou_cpf_do_socio|qualificacao_do_socio|data_de_entrada_sociedade|pais|representante_legal|nome_do_representante|qualificacao_do_representante_legal|faixa_etaria|\n",
      "+-----------+----------------------+-----------------------------+--------------------+---------------------+-------------------------+----+-------------------+---------------------+-----------------------------------+------------+\n",
      "|        411|                     2|         LILIANA PATRICIA ...|         ***678188**|                   22|               1994-07-25|null|        ***000000**|                 null|                                  0|           7|\n",
      "|        411|                     2|         CRISTINA HUNDERTMARK|         ***637848**|                   28|               1994-07-25|null|        ***000000**|                 null|                                  0|           7|\n",
      "|       5813|                     2|         CELSO EDUARDO DE ...|         ***786068**|                   49|               1994-05-16|null|        ***000000**|                 null|                                  0|           8|\n",
      "|       5813|                     2|         EDUARDO BERRINGER...|         ***442348**|                   49|               1994-05-16|null|        ***000000**|                 null|                                  0|           5|\n",
      "|      14798|                     2|          HANNE MAHFOUD FADEL|         ***760388**|                   49|               1994-06-09|null|        ***000000**|                 null|                                  0|           8|\n",
      "+-----------+----------------------+-----------------------------+--------------------+---------------------+-------------------------+----+-------------------+---------------------+-----------------------------------+------------+\n",
      "\n"
     ]
    }
   ],
   "source": [
    "socios.limit(5).show()"
   ]
  },
  {
   "cell_type": "code",
   "execution_count": 44,
   "metadata": {},
   "outputs": [
    {
     "name": "stdout",
     "output_type": "stream",
     "text": [
      "root\n",
      " |-- cnpj_basico: integer (nullable = true)\n",
      " |-- identificador_de_socio: integer (nullable = true)\n",
      " |-- nome_do_socio_ou_razao_social: string (nullable = true)\n",
      " |-- cnpj_ou_cpf_do_socio: string (nullable = true)\n",
      " |-- qualificacao_do_socio: integer (nullable = true)\n",
      " |-- data_de_entrada_sociedade: date (nullable = true)\n",
      " |-- pais: integer (nullable = true)\n",
      " |-- representante_legal: string (nullable = true)\n",
      " |-- nome_do_representante: string (nullable = true)\n",
      " |-- qualificacao_do_representante_legal: integer (nullable = true)\n",
      " |-- faixa_etaria: integer (nullable = true)\n",
      "\n"
     ]
    }
   ],
   "source": [
    "socios.printSchema()"
   ]
  },
  {
   "cell_type": "markdown",
   "metadata": {},
   "source": [
    "* Contando dados nulos por campo"
   ]
  },
  {
   "cell_type": "code",
   "execution_count": 45,
   "metadata": {},
   "outputs": [
    {
     "name": "stderr",
     "output_type": "stream",
     "text": [
      "[Stage 28:=============================================>           (8 + 2) / 10]\r"
     ]
    },
    {
     "name": "stdout",
     "output_type": "stream",
     "text": [
      "+-----------+----------------------+-----------------------------+--------------------+---------------------+-------------------------+-------+-------------------+---------------------+-----------------------------------+------------+\n",
      "|cnpj_basico|identificador_de_socio|nome_do_socio_ou_razao_social|cnpj_ou_cpf_do_socio|qualificacao_do_socio|data_de_entrada_sociedade|   pais|representante_legal|nome_do_representante|qualificacao_do_representante_legal|faixa_etaria|\n",
      "+-----------+----------------------+-----------------------------+--------------------+---------------------+-------------------------+-------+-------------------+---------------------+-----------------------------------+------------+\n",
      "|          0|                     0|                          208|                1234|                    0|                        1|2038255|                  0|              1995432|                                  0|           0|\n",
      "+-----------+----------------------+-----------------------------+--------------------+---------------------+-------------------------+-------+-------------------+---------------------+-----------------------------------+------------+\n",
      "\n"
     ]
    },
    {
     "name": "stderr",
     "output_type": "stream",
     "text": [
      "                                                                                \r"
     ]
    }
   ],
   "source": [
    "socios\\\n",
    "    .select([f.count(f.when(f.isnull(c),1)).alias(c) for c in socios.columns]).show()"
   ]
  },
  {
   "cell_type": "markdown",
   "metadata": {},
   "source": [
    "* Substituindo valores nulos<br>\n",
    "<strong>numéricos</strong>"
   ]
  },
  {
   "cell_type": "code",
   "execution_count": 46,
   "metadata": {},
   "outputs": [
    {
     "data": {
      "text/html": [
       "<div>\n",
       "<style scoped>\n",
       "    .dataframe tbody tr th:only-of-type {\n",
       "        vertical-align: middle;\n",
       "    }\n",
       "\n",
       "    .dataframe tbody tr th {\n",
       "        vertical-align: top;\n",
       "    }\n",
       "\n",
       "    .dataframe thead th {\n",
       "        text-align: right;\n",
       "    }\n",
       "</style>\n",
       "<table border=\"1\" class=\"dataframe\">\n",
       "  <thead>\n",
       "    <tr style=\"text-align: right;\">\n",
       "      <th></th>\n",
       "      <th>cnpj_basico</th>\n",
       "      <th>identificador_de_socio</th>\n",
       "      <th>nome_do_socio_ou_razao_social</th>\n",
       "      <th>cnpj_ou_cpf_do_socio</th>\n",
       "      <th>qualificacao_do_socio</th>\n",
       "      <th>data_de_entrada_sociedade</th>\n",
       "      <th>pais</th>\n",
       "      <th>representante_legal</th>\n",
       "      <th>nome_do_representante</th>\n",
       "      <th>qualificacao_do_representante_legal</th>\n",
       "      <th>faixa_etaria</th>\n",
       "    </tr>\n",
       "  </thead>\n",
       "  <tbody>\n",
       "    <tr>\n",
       "      <th>0</th>\n",
       "      <td>411</td>\n",
       "      <td>2</td>\n",
       "      <td>LILIANA PATRICIA GUASTAVINO</td>\n",
       "      <td>***678188**</td>\n",
       "      <td>22</td>\n",
       "      <td>1994-07-25</td>\n",
       "      <td>0</td>\n",
       "      <td>***000000**</td>\n",
       "      <td>None</td>\n",
       "      <td>0</td>\n",
       "      <td>7</td>\n",
       "    </tr>\n",
       "    <tr>\n",
       "      <th>1</th>\n",
       "      <td>411</td>\n",
       "      <td>2</td>\n",
       "      <td>CRISTINA HUNDERTMARK</td>\n",
       "      <td>***637848**</td>\n",
       "      <td>28</td>\n",
       "      <td>1994-07-25</td>\n",
       "      <td>0</td>\n",
       "      <td>***000000**</td>\n",
       "      <td>None</td>\n",
       "      <td>0</td>\n",
       "      <td>7</td>\n",
       "    </tr>\n",
       "    <tr>\n",
       "      <th>2</th>\n",
       "      <td>5813</td>\n",
       "      <td>2</td>\n",
       "      <td>CELSO EDUARDO DE CASTRO STEPHAN</td>\n",
       "      <td>***786068**</td>\n",
       "      <td>49</td>\n",
       "      <td>1994-05-16</td>\n",
       "      <td>0</td>\n",
       "      <td>***000000**</td>\n",
       "      <td>None</td>\n",
       "      <td>0</td>\n",
       "      <td>8</td>\n",
       "    </tr>\n",
       "    <tr>\n",
       "      <th>3</th>\n",
       "      <td>5813</td>\n",
       "      <td>2</td>\n",
       "      <td>EDUARDO BERRINGER STEPHAN</td>\n",
       "      <td>***442348**</td>\n",
       "      <td>49</td>\n",
       "      <td>1994-05-16</td>\n",
       "      <td>0</td>\n",
       "      <td>***000000**</td>\n",
       "      <td>None</td>\n",
       "      <td>0</td>\n",
       "      <td>5</td>\n",
       "    </tr>\n",
       "    <tr>\n",
       "      <th>4</th>\n",
       "      <td>14798</td>\n",
       "      <td>2</td>\n",
       "      <td>HANNE MAHFOUD FADEL</td>\n",
       "      <td>***760388**</td>\n",
       "      <td>49</td>\n",
       "      <td>1994-06-09</td>\n",
       "      <td>0</td>\n",
       "      <td>***000000**</td>\n",
       "      <td>None</td>\n",
       "      <td>0</td>\n",
       "      <td>8</td>\n",
       "    </tr>\n",
       "  </tbody>\n",
       "</table>\n",
       "</div>"
      ],
      "text/plain": [
       "   cnpj_basico  identificador_de_socio    nome_do_socio_ou_razao_social  \\\n",
       "0          411                       2      LILIANA PATRICIA GUASTAVINO   \n",
       "1          411                       2             CRISTINA HUNDERTMARK   \n",
       "2         5813                       2  CELSO EDUARDO DE CASTRO STEPHAN   \n",
       "3         5813                       2        EDUARDO BERRINGER STEPHAN   \n",
       "4        14798                       2              HANNE MAHFOUD FADEL   \n",
       "\n",
       "  cnpj_ou_cpf_do_socio  qualificacao_do_socio data_de_entrada_sociedade  pais  \\\n",
       "0          ***678188**                     22                1994-07-25     0   \n",
       "1          ***637848**                     28                1994-07-25     0   \n",
       "2          ***786068**                     49                1994-05-16     0   \n",
       "3          ***442348**                     49                1994-05-16     0   \n",
       "4          ***760388**                     49                1994-06-09     0   \n",
       "\n",
       "  representante_legal nome_do_representante  \\\n",
       "0         ***000000**                  None   \n",
       "1         ***000000**                  None   \n",
       "2         ***000000**                  None   \n",
       "3         ***000000**                  None   \n",
       "4         ***000000**                  None   \n",
       "\n",
       "   qualificacao_do_representante_legal  faixa_etaria  \n",
       "0                                    0             7  \n",
       "1                                    0             7  \n",
       "2                                    0             8  \n",
       "3                                    0             5  \n",
       "4                                    0             8  "
      ]
     },
     "execution_count": 46,
     "metadata": {},
     "output_type": "execute_result"
    }
   ],
   "source": [
    "socios.na.fill(0).limit(5).toPandas()"
   ]
  },
  {
   "cell_type": "markdown",
   "metadata": {},
   "source": [
    "<strong>string</strong>"
   ]
  },
  {
   "cell_type": "code",
   "execution_count": 47,
   "metadata": {},
   "outputs": [
    {
     "data": {
      "text/html": [
       "<div>\n",
       "<style scoped>\n",
       "    .dataframe tbody tr th:only-of-type {\n",
       "        vertical-align: middle;\n",
       "    }\n",
       "\n",
       "    .dataframe tbody tr th {\n",
       "        vertical-align: top;\n",
       "    }\n",
       "\n",
       "    .dataframe thead th {\n",
       "        text-align: right;\n",
       "    }\n",
       "</style>\n",
       "<table border=\"1\" class=\"dataframe\">\n",
       "  <thead>\n",
       "    <tr style=\"text-align: right;\">\n",
       "      <th></th>\n",
       "      <th>cnpj_basico</th>\n",
       "      <th>identificador_de_socio</th>\n",
       "      <th>nome_do_socio_ou_razao_social</th>\n",
       "      <th>cnpj_ou_cpf_do_socio</th>\n",
       "      <th>qualificacao_do_socio</th>\n",
       "      <th>data_de_entrada_sociedade</th>\n",
       "      <th>pais</th>\n",
       "      <th>representante_legal</th>\n",
       "      <th>nome_do_representante</th>\n",
       "      <th>qualificacao_do_representante_legal</th>\n",
       "      <th>faixa_etaria</th>\n",
       "    </tr>\n",
       "  </thead>\n",
       "  <tbody>\n",
       "    <tr>\n",
       "      <th>0</th>\n",
       "      <td>411</td>\n",
       "      <td>2</td>\n",
       "      <td>LILIANA PATRICIA GUASTAVINO</td>\n",
       "      <td>***678188**</td>\n",
       "      <td>22</td>\n",
       "      <td>1994-07-25</td>\n",
       "      <td>NaN</td>\n",
       "      <td>***000000**</td>\n",
       "      <td>-</td>\n",
       "      <td>0</td>\n",
       "      <td>7</td>\n",
       "    </tr>\n",
       "    <tr>\n",
       "      <th>1</th>\n",
       "      <td>411</td>\n",
       "      <td>2</td>\n",
       "      <td>CRISTINA HUNDERTMARK</td>\n",
       "      <td>***637848**</td>\n",
       "      <td>28</td>\n",
       "      <td>1994-07-25</td>\n",
       "      <td>NaN</td>\n",
       "      <td>***000000**</td>\n",
       "      <td>-</td>\n",
       "      <td>0</td>\n",
       "      <td>7</td>\n",
       "    </tr>\n",
       "    <tr>\n",
       "      <th>2</th>\n",
       "      <td>5813</td>\n",
       "      <td>2</td>\n",
       "      <td>CELSO EDUARDO DE CASTRO STEPHAN</td>\n",
       "      <td>***786068**</td>\n",
       "      <td>49</td>\n",
       "      <td>1994-05-16</td>\n",
       "      <td>NaN</td>\n",
       "      <td>***000000**</td>\n",
       "      <td>-</td>\n",
       "      <td>0</td>\n",
       "      <td>8</td>\n",
       "    </tr>\n",
       "    <tr>\n",
       "      <th>3</th>\n",
       "      <td>5813</td>\n",
       "      <td>2</td>\n",
       "      <td>EDUARDO BERRINGER STEPHAN</td>\n",
       "      <td>***442348**</td>\n",
       "      <td>49</td>\n",
       "      <td>1994-05-16</td>\n",
       "      <td>NaN</td>\n",
       "      <td>***000000**</td>\n",
       "      <td>-</td>\n",
       "      <td>0</td>\n",
       "      <td>5</td>\n",
       "    </tr>\n",
       "    <tr>\n",
       "      <th>4</th>\n",
       "      <td>14798</td>\n",
       "      <td>2</td>\n",
       "      <td>HANNE MAHFOUD FADEL</td>\n",
       "      <td>***760388**</td>\n",
       "      <td>49</td>\n",
       "      <td>1994-06-09</td>\n",
       "      <td>NaN</td>\n",
       "      <td>***000000**</td>\n",
       "      <td>-</td>\n",
       "      <td>0</td>\n",
       "      <td>8</td>\n",
       "    </tr>\n",
       "  </tbody>\n",
       "</table>\n",
       "</div>"
      ],
      "text/plain": [
       "   cnpj_basico  identificador_de_socio    nome_do_socio_ou_razao_social  \\\n",
       "0          411                       2      LILIANA PATRICIA GUASTAVINO   \n",
       "1          411                       2             CRISTINA HUNDERTMARK   \n",
       "2         5813                       2  CELSO EDUARDO DE CASTRO STEPHAN   \n",
       "3         5813                       2        EDUARDO BERRINGER STEPHAN   \n",
       "4        14798                       2              HANNE MAHFOUD FADEL   \n",
       "\n",
       "  cnpj_ou_cpf_do_socio  qualificacao_do_socio data_de_entrada_sociedade  pais  \\\n",
       "0          ***678188**                     22                1994-07-25   NaN   \n",
       "1          ***637848**                     28                1994-07-25   NaN   \n",
       "2          ***786068**                     49                1994-05-16   NaN   \n",
       "3          ***442348**                     49                1994-05-16   NaN   \n",
       "4          ***760388**                     49                1994-06-09   NaN   \n",
       "\n",
       "  representante_legal nome_do_representante  \\\n",
       "0         ***000000**                     -   \n",
       "1         ***000000**                     -   \n",
       "2         ***000000**                     -   \n",
       "3         ***000000**                     -   \n",
       "4         ***000000**                     -   \n",
       "\n",
       "   qualificacao_do_representante_legal  faixa_etaria  \n",
       "0                                    0             7  \n",
       "1                                    0             7  \n",
       "2                                    0             8  \n",
       "3                                    0             5  \n",
       "4                                    0             8  "
      ]
     },
     "execution_count": 47,
     "metadata": {},
     "output_type": "execute_result"
    }
   ],
   "source": [
    "socios.na.fill('-').limit(5).toPandas()"
   ]
  },
  {
   "cell_type": "markdown",
   "metadata": {},
   "source": [
    "### Ordenando os dados"
   ]
  },
  {
   "cell_type": "code",
   "execution_count": 48,
   "metadata": {},
   "outputs": [
    {
     "name": "stdout",
     "output_type": "stream",
     "text": [
      "root\n",
      " |-- cnpj_basico: integer (nullable = true)\n",
      " |-- identificador_de_socio: integer (nullable = true)\n",
      " |-- nome_do_socio_ou_razao_social: string (nullable = true)\n",
      " |-- cnpj_ou_cpf_do_socio: string (nullable = true)\n",
      " |-- qualificacao_do_socio: integer (nullable = true)\n",
      " |-- data_de_entrada_sociedade: date (nullable = true)\n",
      " |-- pais: integer (nullable = true)\n",
      " |-- representante_legal: string (nullable = true)\n",
      " |-- nome_do_representante: string (nullable = true)\n",
      " |-- qualificacao_do_representante_legal: integer (nullable = true)\n",
      " |-- faixa_etaria: integer (nullable = true)\n",
      "\n"
     ]
    }
   ],
   "source": [
    "socios.printSchema()"
   ]
  },
  {
   "cell_type": "code",
   "execution_count": 49,
   "metadata": {},
   "outputs": [
    {
     "name": "stderr",
     "output_type": "stream",
     "text": [
      "[Stage 32:=============================================>           (8 + 2) / 10]\r"
     ]
    },
    {
     "name": "stdout",
     "output_type": "stream",
     "text": [
      "+--------------------------------+------------+--------------+\n",
      "|nome_do_socio_ou_razao_social   |faixa_etaria|ano_de_entrada|\n",
      "+--------------------------------+------------+--------------+\n",
      "|FERNANDO DO NASCIMENTO FERNANDES|6           |2021          |\n",
      "|ALICE VASCONCELOS DE FARIA      |4           |2021          |\n",
      "|IBRAHIM OZER                    |4           |2021          |\n",
      "|LUCIANA DE SOUZA FERREIRA       |5           |2021          |\n",
      "|YOSHIKUNI MURAKAMI              |8           |2021          |\n",
      "+--------------------------------+------------+--------------+\n",
      "only showing top 5 rows\n",
      "\n"
     ]
    },
    {
     "name": "stderr",
     "output_type": "stream",
     "text": [
      "                                                                                \r"
     ]
    }
   ],
   "source": [
    "socios\\\n",
    "    .select('nome_do_socio_ou_razao_social',\n",
    "             'faixa_etaria',\n",
    "             f.year('data_de_entrada_sociedade').alias('ano_de_entrada'))\\\n",
    "             .orderBy('ano_de_entrada',ascending=False)\\\n",
    "    .show(5,False)\n",
    "    "
   ]
  },
  {
   "cell_type": "code",
   "execution_count": 50,
   "metadata": {},
   "outputs": [
    {
     "name": "stderr",
     "output_type": "stream",
     "text": [
      "[Stage 33:=============================================>           (8 + 2) / 10]\r"
     ]
    },
    {
     "name": "stdout",
     "output_type": "stream",
     "text": [
      "+-----------------------------+------------+--------------+\n",
      "|nome_do_socio_ou_razao_social|faixa_etaria|ano_de_entrada|\n",
      "+-----------------------------+------------+--------------+\n",
      "|JANYR BELLUCI MIDUATI        |9           |2021          |\n",
      "|YASUKO KIYOMOTO HORIE        |9           |2021          |\n",
      "|ALTIVO DE SOUZA              |9           |2021          |\n",
      "|MIGUEL CARLOS CALASANS SIMOES|9           |2021          |\n",
      "|ETELVINA DE FREITAS LIMA     |9           |2021          |\n",
      "|JOAO ARTUR                   |9           |2021          |\n",
      "|MOISES ARAUJO DOS SANTOS     |9           |2021          |\n",
      "|DOMINGOS TEIXEIRA            |9           |2021          |\n",
      "|MIGUEL BERTOZZI              |9           |2021          |\n",
      "|MARIA ASSUNCAO DE OLIM MAROTE|9           |2021          |\n",
      "+-----------------------------+------------+--------------+\n",
      "only showing top 10 rows\n",
      "\n"
     ]
    },
    {
     "name": "stderr",
     "output_type": "stream",
     "text": [
      "                                                                                \r"
     ]
    }
   ],
   "source": [
    "socios\\\n",
    "    .select('nome_do_socio_ou_razao_social',\n",
    "             'faixa_etaria',\n",
    "             f.year('data_de_entrada_sociedade').alias('ano_de_entrada'))\\\n",
    "    .orderBy(['ano_de_entrada','faixa_etaria'],ascending=[False,False])\\\n",
    "    .show(10,False)"
   ]
  },
  {
   "cell_type": "markdown",
   "metadata": {},
   "source": [
    "### Filtrando os dados\n",
    "\n",
    "\n",
    "`DataFrame.Where & DataFrame.Filter`"
   ]
  },
  {
   "cell_type": "code",
   "execution_count": 51,
   "metadata": {},
   "outputs": [
    {
     "name": "stdout",
     "output_type": "stream",
     "text": [
      "+-----------+------------------------------------+-----------------+---------------------------+-------------------------+----------------+---------------------------+\n",
      "|cnpj_basico|razao_social_nome_empresarial       |natureza_juridica|qualificacao_do_responsavel|capital_social_da_empresa|porte_da_empresa|ente_federativo_responsavel|\n",
      "+-----------+------------------------------------+-----------------+---------------------------+-------------------------+----------------+---------------------------+\n",
      "|17350147   |ERIK MARCELO DOS SANTOS 42107848858 |2135             |50                         |50.0                     |1               |null                       |\n",
      "|17833214   |ALEXANDRE MACHADO LIMA 73750123772  |2135             |50                         |50.0                     |1               |null                       |\n",
      "|20860830   |YASMIN MOURA DA FONSECA 13457709793 |2135             |50                         |50.0                     |1               |null                       |\n",
      "|22242856   |JOAO CESAR MESSIAS 08707149883      |2135             |50                         |50.0                     |1               |null                       |\n",
      "|23238540   |EVERTON ROBERTO DA SILVA 42101963809|2135             |50                         |50.0                     |1               |null                       |\n",
      "+-----------+------------------------------------+-----------------+---------------------------+-------------------------+----------------+---------------------------+\n",
      "only showing top 5 rows\n",
      "\n"
     ]
    }
   ],
   "source": [
    "empresas\\\n",
    "    .where(\"capital_social_da_empresa = 50\")\\\n",
    "    .show(5,False)"
   ]
  },
  {
   "cell_type": "code",
   "execution_count": 52,
   "metadata": {},
   "outputs": [
    {
     "data": {
      "text/html": [
       "<div>\n",
       "<style scoped>\n",
       "    .dataframe tbody tr th:only-of-type {\n",
       "        vertical-align: middle;\n",
       "    }\n",
       "\n",
       "    .dataframe tbody tr th {\n",
       "        vertical-align: top;\n",
       "    }\n",
       "\n",
       "    .dataframe thead th {\n",
       "        text-align: right;\n",
       "    }\n",
       "</style>\n",
       "<table border=\"1\" class=\"dataframe\">\n",
       "  <thead>\n",
       "    <tr style=\"text-align: right;\">\n",
       "      <th></th>\n",
       "      <th>nome_do_socio_ou_razao_social</th>\n",
       "    </tr>\n",
       "  </thead>\n",
       "  <tbody>\n",
       "    <tr>\n",
       "      <th>0</th>\n",
       "      <td>RODRIGO BENASSI DIAS</td>\n",
       "    </tr>\n",
       "    <tr>\n",
       "      <th>1</th>\n",
       "      <td>RODRIGO RUDIBERTO DIAS</td>\n",
       "    </tr>\n",
       "    <tr>\n",
       "      <th>2</th>\n",
       "      <td>RODRIGO AURELIANO DIAS</td>\n",
       "    </tr>\n",
       "    <tr>\n",
       "      <th>3</th>\n",
       "      <td>RODRIGO SIMOES LEMOS DIAS</td>\n",
       "    </tr>\n",
       "    <tr>\n",
       "      <th>4</th>\n",
       "      <td>RODRIGO GEORGE DIAS</td>\n",
       "    </tr>\n",
       "    <tr>\n",
       "      <th>5</th>\n",
       "      <td>RODRIGO AUGUSTO FELICIO DIAS</td>\n",
       "    </tr>\n",
       "    <tr>\n",
       "      <th>6</th>\n",
       "      <td>RODRIGO FERNANDES DIAS</td>\n",
       "    </tr>\n",
       "    <tr>\n",
       "      <th>7</th>\n",
       "      <td>RODRIGO GARRIDO DIAS</td>\n",
       "    </tr>\n",
       "    <tr>\n",
       "      <th>8</th>\n",
       "      <td>RODRIGO OLIVEIRA DIAS</td>\n",
       "    </tr>\n",
       "    <tr>\n",
       "      <th>9</th>\n",
       "      <td>RODRIGO GONCALVES DIAS</td>\n",
       "    </tr>\n",
       "  </tbody>\n",
       "</table>\n",
       "</div>"
      ],
      "text/plain": [
       "  nome_do_socio_ou_razao_social\n",
       "0          RODRIGO BENASSI DIAS\n",
       "1        RODRIGO RUDIBERTO DIAS\n",
       "2        RODRIGO AURELIANO DIAS\n",
       "3     RODRIGO SIMOES LEMOS DIAS\n",
       "4           RODRIGO GEORGE DIAS\n",
       "5  RODRIGO AUGUSTO FELICIO DIAS\n",
       "6        RODRIGO FERNANDES DIAS\n",
       "7          RODRIGO GARRIDO DIAS\n",
       "8         RODRIGO OLIVEIRA DIAS\n",
       "9        RODRIGO GONCALVES DIAS"
      ]
     },
     "execution_count": 52,
     "metadata": {},
     "output_type": "execute_result"
    }
   ],
   "source": [
    "socios\\\n",
    "    .select(\"nome_do_socio_ou_razao_social\")\\\n",
    "    .filter(socios.nome_do_socio_ou_razao_social.startswith(\"RODRIGO\"))\\\n",
    "    .filter(socios.nome_do_socio_ou_razao_social.endswith(\"DIAS\"))\\\n",
    "    .limit(10)\\\n",
    "    .toPandas()"
   ]
  },
  {
   "cell_type": "code",
   "execution_count": 53,
   "metadata": {},
   "outputs": [
    {
     "data": {
      "text/html": [
       "<div>\n",
       "<style scoped>\n",
       "    .dataframe tbody tr th:only-of-type {\n",
       "        vertical-align: middle;\n",
       "    }\n",
       "\n",
       "    .dataframe tbody tr th {\n",
       "        vertical-align: top;\n",
       "    }\n",
       "\n",
       "    .dataframe thead th {\n",
       "        text-align: right;\n",
       "    }\n",
       "</style>\n",
       "<table border=\"1\" class=\"dataframe\">\n",
       "  <thead>\n",
       "    <tr style=\"text-align: right;\">\n",
       "      <th></th>\n",
       "      <th>nome_do_socio_ou_razao_social</th>\n",
       "    </tr>\n",
       "  </thead>\n",
       "  <tbody>\n",
       "    <tr>\n",
       "      <th>0</th>\n",
       "      <td>LUCCAS TARTUCE RODRIGUES</td>\n",
       "    </tr>\n",
       "    <tr>\n",
       "      <th>1</th>\n",
       "      <td>LUCCAS NETO FERREIRA</td>\n",
       "    </tr>\n",
       "    <tr>\n",
       "      <th>2</th>\n",
       "      <td>LUCCAS RAOTA</td>\n",
       "    </tr>\n",
       "    <tr>\n",
       "      <th>3</th>\n",
       "      <td>LUCCAS LEITE CARVALHO</td>\n",
       "    </tr>\n",
       "    <tr>\n",
       "      <th>4</th>\n",
       "      <td>LUCCAS GOLDFARB COBBETT</td>\n",
       "    </tr>\n",
       "    <tr>\n",
       "      <th>5</th>\n",
       "      <td>LUCCAS NINNO ROMACHELI</td>\n",
       "    </tr>\n",
       "    <tr>\n",
       "      <th>6</th>\n",
       "      <td>LUCCAS CONSTANT COSTANZA LUCIO DE CARVALHO</td>\n",
       "    </tr>\n",
       "    <tr>\n",
       "      <th>7</th>\n",
       "      <td>LUCCAS VIEIRA DE MAGALHAES</td>\n",
       "    </tr>\n",
       "    <tr>\n",
       "      <th>8</th>\n",
       "      <td>LUCCAS DE LISBOA SANTOS</td>\n",
       "    </tr>\n",
       "    <tr>\n",
       "      <th>9</th>\n",
       "      <td>LUCCAS PAULINO RIBEIRO PEDRO</td>\n",
       "    </tr>\n",
       "  </tbody>\n",
       "</table>\n",
       "</div>"
      ],
      "text/plain": [
       "                nome_do_socio_ou_razao_social\n",
       "0                    LUCCAS TARTUCE RODRIGUES\n",
       "1                        LUCCAS NETO FERREIRA\n",
       "2                                LUCCAS RAOTA\n",
       "3                       LUCCAS LEITE CARVALHO\n",
       "4                     LUCCAS GOLDFARB COBBETT\n",
       "5                      LUCCAS NINNO ROMACHELI\n",
       "6  LUCCAS CONSTANT COSTANZA LUCIO DE CARVALHO\n",
       "7                  LUCCAS VIEIRA DE MAGALHAES\n",
       "8                     LUCCAS DE LISBOA SANTOS\n",
       "9                LUCCAS PAULINO RIBEIRO PEDRO"
      ]
     },
     "execution_count": 53,
     "metadata": {},
     "output_type": "execute_result"
    }
   ],
   "source": [
    "socios\\\n",
    "    .select(\"nome_do_socio_ou_razao_social\")\\\n",
    "    .filter(socios.nome_do_socio_ou_razao_social.startswith(\"LUCCAS\"))\\\n",
    "    .limit(10)\\\n",
    "    .toPandas()"
   ]
  },
  {
   "cell_type": "markdown",
   "metadata": {},
   "source": [
    "`Método Like`"
   ]
  },
  {
   "cell_type": "code",
   "execution_count": 54,
   "metadata": {},
   "outputs": [
    {
     "name": "stdout",
     "output_type": "stream",
     "text": [
      "+-------------------------------------------------------+-----------------+----------------+-------------------------+\n",
      "|razao_social_nome_empresarial                          |natureza_juridica|porte_da_empresa|capital_social_da_empresa|\n",
      "+-------------------------------------------------------+-----------------+----------------+-------------------------+\n",
      "|RESTAURANTE IMIGRANTE PORTUGUES LTDA.                  |2062             |5               |0.0                      |\n",
      "|MORAIS & CARVALHO RESTAURANTE E PIZZARIA LTDA          |2062             |1               |0.0                      |\n",
      "|BAR E RESTAURANTE PAGANOTTO LTDA                       |2062             |5               |0.0                      |\n",
      "|RODRIGUES & RODRIGUES RESTAURANTE LTDA                 |2062             |5               |0.0                      |\n",
      "|TEXAS RANCH BAR RESTAURANTE PRODUCOES ARTISTICAS E CULT|2062             |1               |0.0                      |\n",
      "|V V SANTOS RESTAURANTE BAR E ATIV DESPORTIVAS LTDA     |2062             |1               |0.0                      |\n",
      "|BAR E RESTAURANTE CASA DA QUINTA LTDA                  |2062             |1               |5000.0                   |\n",
      "|DON MUGO RESTAURANTE LTDA                              |2062             |1               |10000.0                  |\n",
      "|MARIA ROZA DOS SANTOS- BAR E RESTAURANTE               |2135             |5               |0.0                      |\n",
      "|GERACAO DE OURO - BAR E RESTAURANTE LTDA               |2062             |5               |40000.0                  |\n",
      "|ELIANIA A. CUSTODIO RESTAURANTE                        |2135             |1               |0.0                      |\n",
      "|DOCE ESPIGA RESTAURANTE LTDA                           |2062             |1               |0.0                      |\n",
      "|R. A. D. ABRIL RESTAURANTE                             |2135             |1               |0.0                      |\n",
      "|BAR E RESTAURANTE IULIANCHESE LTDA.                    |2062             |1               |0.0                      |\n",
      "|R. DA S. ARAUJO - RESTAURANTE                          |2135             |5               |0.0                      |\n",
      "+-------------------------------------------------------+-----------------+----------------+-------------------------+\n",
      "only showing top 15 rows\n",
      "\n"
     ]
    }
   ],
   "source": [
    "empresas\\\n",
    "    .select('razao_social_nome_empresarial',\n",
    "            'natureza_juridica',\n",
    "            'porte_da_empresa',\n",
    "            'capital_social_da_empresa')\\\n",
    "    .filter(f.upper(empresas['razao_social_nome_empresarial']).like('%RESTAURANTE%'))\\\n",
    "    .show(15,False)"
   ]
  },
  {
   "cell_type": "markdown",
   "metadata": {},
   "source": [
    "## Agregações e Junções"
   ]
  },
  {
   "cell_type": "markdown",
   "metadata": {},
   "source": [
    "### Sumarizando os dados"
   ]
  },
  {
   "cell_type": "code",
   "execution_count": 63,
   "metadata": {},
   "outputs": [
    {
     "name": "stderr",
     "output_type": "stream",
     "text": [
      "[Stage 47:=============================================>           (8 + 2) / 10]\r"
     ]
    },
    {
     "name": "stdout",
     "output_type": "stream",
     "text": [
      "+--------------+------+\n",
      "|ano_de_entrada| count|\n",
      "+--------------+------+\n",
      "|          2010| 79337|\n",
      "|          2011| 83906|\n",
      "|          2012| 80101|\n",
      "|          2013| 83919|\n",
      "|          2014| 80590|\n",
      "|          2015| 80906|\n",
      "|          2016| 81587|\n",
      "|          2017| 90221|\n",
      "|          2018| 99935|\n",
      "|          2019|118248|\n",
      "|          2020|125927|\n",
      "|          2021| 56316|\n",
      "+--------------+------+\n",
      "\n"
     ]
    },
    {
     "name": "stderr",
     "output_type": "stream",
     "text": [
      "                                                                                \r"
     ]
    }
   ],
   "source": [
    "socios\\\n",
    "    .select(f.year('data_de_entrada_sociedade').alias('ano_de_entrada'))\\\n",
    "    .where('ano_de_entrada >= 2010')\\\n",
    "    .groupBy('ano_de_entrada')\\\n",
    "    .count()\\\n",
    "    .orderBy('ano_de_entrada',ascending=True)\\\n",
    "    .show()"
   ]
  },
  {
   "cell_type": "code",
   "execution_count": null,
   "metadata": {},
   "outputs": [
    {
     "name": "stderr",
     "output_type": "stream",
     "text": [
      "[Stage 49:=============================================>           (8 + 2) / 10]\r"
     ]
    },
    {
     "name": "stdout",
     "output_type": "stream",
     "text": [
      "+----------------+--------------------+----------+\n",
      "|porte_da_empresa|capital_social_medio|frequencia|\n",
      "+----------------+--------------------+----------+\n",
      "|            null|    8.35421888053467|      5985|\n",
      "|               1|  339994.53313507047|   3129043|\n",
      "|               3|  2601001.7677092687|    115151|\n",
      "|               5|   708660.4208249793|   1335500|\n",
      "+----------------+--------------------+----------+\n",
      "\n"
     ]
    },
    {
     "name": "stderr",
     "output_type": "stream",
     "text": [
      "                                                                                \r"
     ]
    }
   ],
   "source": [
    "empresas\\\n",
    "    .select('cnpj_basico','porte_da_empresa','capital_social_da_empresa')\\\n",
    "    .groupBy('porte_da_empresa')\\\n",
    "    .agg(\n",
    "        f.avg(\"capital_social_da_empresa\").alias(\"capital_social_medio\"),\n",
    "        f.count(\"cnpj_basico\").alias(\"frequencia\")\n",
    "    )\\\n",
    "    .orderBy(\"porte_da_empresa\",ascending=True).show()"
   ]
  },
  {
   "cell_type": "code",
   "execution_count": 66,
   "metadata": {},
   "outputs": [
    {
     "name": "stderr",
     "output_type": "stream",
     "text": [
      "[Stage 51:=============================================>           (8 + 2) / 10]\r"
     ]
    },
    {
     "name": "stdout",
     "output_type": "stream",
     "text": [
      "+-------+-------------------------+\n",
      "|summary|capital_social_da_empresa|\n",
      "+-------+-------------------------+\n",
      "|  count|                  4585679|\n",
      "|   mean|        503694.5478542674|\n",
      "| stddev|     2.1118691490537727E8|\n",
      "|    min|                      0.0|\n",
      "|    25%|                      0.0|\n",
      "|    50%|                   1000.0|\n",
      "|    75%|                   7000.0|\n",
      "|    max|         3.22014670262E11|\n",
      "+-------+-------------------------+\n",
      "\n"
     ]
    },
    {
     "name": "stderr",
     "output_type": "stream",
     "text": [
      "                                                                                \r"
     ]
    }
   ],
   "source": [
    "empresas\\\n",
    "    .select(\"capital_social_da_empresa\")\\\n",
    "    .summary()\\\n",
    "    .show()"
   ]
  },
  {
   "cell_type": "markdown",
   "metadata": {},
   "source": [
    "### Juntando DataFrames - Join"
   ]
  },
  {
   "cell_type": "code",
   "execution_count": 67,
   "metadata": {},
   "outputs": [],
   "source": [
    "empresas_join = estabelecimentos.join(empresas,'cnpj_basico',how='inner')"
   ]
  },
  {
   "cell_type": "code",
   "execution_count": 69,
   "metadata": {},
   "outputs": [
    {
     "name": "stderr",
     "output_type": "stream",
     "text": [
      "[Stage 54:=============================================>           (8 + 2) / 10]\r"
     ]
    },
    {
     "name": "stdout",
     "output_type": "stream",
     "text": [
      "+-----------+----------+-------+---------------------------+--------------------+------------------+-----------------------+-------------------------+--------------------------+----+------------------------+---------------------+----------------------+------------------+------------------+------+-------------------+-----------------+--------+---+---------+-----+----------+-----+----------+----------+-------+--------------------+-----------------+-------------------------+-----------------------------+-----------------+---------------------------+-------------------------+----------------+---------------------------+\n",
      "|cnpj_basico|cnpj_ordem|cnpj_dv|identificador_matriz_filial|       nome_fantasia|situacao_cadastral|data_situacao_cadastral|motivo_situacao_cadastral|nome_da_cidade_no_exterior|pais|data_de_inicio_atividade|cnae_fiscal_principal|cnae_fiscal_secundaria|tipo_de_logradouro|        logradouro|numero|        complemento|           bairro|     cep| uf|municipio|ddd_1|telefone_1|ddd_2|telefone_2|ddd_do_fax|    fax|  correio_eletronico|situacao_especial|data_da_situacao_especial|razao_social_nome_empresarial|natureza_juridica|qualificacao_do_responsavel|capital_social_da_empresa|porte_da_empresa|ente_federativo_responsavel|\n",
      "+-----------+----------+-------+---------------------------+--------------------+------------------+-----------------------+-------------------------+--------------------------+----+------------------------+---------------------+----------------------+------------------+------------------+------+-------------------+-----------------+--------+---+---------+-----+----------+-----+----------+----------+-------+--------------------+-----------------+-------------------------+-----------------------------+-----------------+---------------------------+-------------------------+----------------+---------------------------+\n",
      "|       4519|         1|     48|                          1|            GIRAFFAS|                 8|             1995-03-31|                        1|                      null|null|              1994-05-16|              5611203|                  null|               RUA|     HENRIQUE SAVI| 15 55|LOJA UN2A 01 TERREO| JARDIM AEROPORTO|17012205| SP|     6219| null|      null| null|      null|      null|   null|                null|             null|                     null|         DANIELA DA SILVA ...|             2135|                         50|                      0.0|               5|                       null|\n",
      "|       8638|         1|     79|                          1|AGROPECUARIA FAGU...|                 8|             2015-02-09|                       73|                      null|null|              1994-05-24|              4771704|                  null|           AVENIDA| EUCLIDES DA CUNHA|   474|              SALAO|           CENTRO|19275000| SP|     7255| null|      null| null|      null|      null|   null|                null|             null|                     null|         JOAO DOS SANTOS F...|             2135|                         50|                      0.0|               5|                       null|\n",
      "|      11748|         1|     90|                          1|                null|                 4|             2018-12-19|                       63|                      null|null|              1994-05-31|              4721102|                  null|               RUA|    JOSE BONIFACIO|   110|               null|       VILA DINIZ|15013150| SP|     7097| null|      null| null|      null|      null|   null|                null|             null|                     null|         PANIFICADORA E CO...|             2062|                         49|                      0.0|               1|                       null|\n",
      "|      12027|         1|      2|                          1|                null|                 8|             2008-12-31|                       71|                      null|null|              1994-06-08|              4721104|                  null|           AVENIDA|      INDIANOPOLIS|  3304|               null|            SAUDE| 4062003| SP|     7107| null|      null| null|      null|      null|   null|                null|             null|                     null|          L G SORVETERIA LTDA|             2062|                         49|                      0.0|               5|                       null|\n",
      "|      13289|         1|     83|                          1|JS MATERIAIS DE C...|                 2|             2004-01-23|                        0|                      null|null|              1994-06-01|              4744099|                  null|               RUA|SALVADOR TAMAIOLLI|   165|               null|    PORTO BELLO I|13660000| SP|     6915|   19|  35811286| null|      null|      null|   null|CONTATO@LEONECONT...|             null|                     null|         ANDREIA CRISTINA ...|             2305|                         65|                 100000.0|               1|                       null|\n",
      "|      13623|         1|      7|                          1|MARISTELA INDUSTR...|                 8|             2008-12-31|                       71|                      null|null|              1973-08-21|              1053800|                  null|              null|         QI 4 LOTE|     8|               null|       TAGUATINGA|71920540| DF|     9701| null|      null| null|      null|      null|   null|                null|             null|                     null|         MARISTELA INDUSTR...|             2062|                         49|                      0.0|               5|                       null|\n",
      "|      17389|         1|     88|                          1|                null|                 4|             2018-10-04|                       63|                      null|null|              1994-06-13|              6209100|                  null|               RUA|      GODOI COLACO|   150|               null|    VILA CORDEIRO| 4582030| SP|     7107|  011|   5352348| null|      null|        11|5352348|                null|             null|                     null|         DAICICOM MARKETIN...|             2240|                         49|                      0.0|               1|                       null|\n",
      "|      18944|         1|     96|                          1|           MONTANHES|                 8|             1996-05-06|                        1|                      null|null|              1994-06-21|              4693100|               4691500|           AVENIDA|  GALEAO CARVALHAL|    17|             BAIXOS|          GONZAGA|11055201| SP|     7071| null|      null| null|      null|      null|   null|                null|             null|                     null|         SAO GOTARDO-DISTR...|             2062|                         49|                      0.0|               5|                       null|\n",
      "|      19204|         1|     74|                          1|                null|                 8|             2012-10-04|                        1|                      null|null|              1994-06-16|              4729601|                  null|           AVENIDA|          IGUATEMI|   777|               null|    VILA BRANDINA|13092500| SP|     6291| null|      null| null|      null|      null|   null|                null|             null|                     null|         TORTARIA CAMPINAS...|             2062|                         49|                      0.0|               1|                       null|\n",
      "|      22223|         1|     50|                          1|                null|                 8|             2016-10-10|                        1|                      null|null|              1994-06-28|              4772500|                  null|               RUA|   INDIA PARAGUACU|    45|               null|       NOVA GUARA|12516640| SP|     6469| null|      null| null|      null|      null|   null|                null|             null|                     null|         S R FARIAS DA SIL...|             2062|                         49|                      0.0|               5|                       null|\n",
      "|      23015|         1|     75|                          1|    FLORICULTURA EVA|                 4|             2018-09-11|                       63|                      null|null|              1994-06-29|              4789002|                  null|           AVENIDA|                 A|    98|               null|     JD PRIMAVERA| 6056040| SP|     6789| null|      null| null|      null|      null|   null|                null|             null|                     null|         EVANGELINA P DE J...|             2135|                         50|                      0.0|               1|                       null|\n",
      "|      24354|         1|     76|                          1|              JUCELI|                 8|             2008-05-16|                       54|                      null|null|              1994-07-06|              4755502|                  null|           AVENIDA|     N S DE FATIMA|    60|               null|     JORDANOPOLIS| 7400015| SP|     6177| null|      null| null|      null|      null|   null|                null|             null|                     null|         JUCELIA PEREIRA D...|             2135|                         50|                      0.0|               1|                       null|\n",
      "|      26708|         1|     11|                          1|BAR E MERCEARIA R...|                 8|             2008-12-31|                       71|                      null|null|              1982-01-21|              5611203|                  null|           AVENIDA|     JOSE LUDOVICO|   S/N|       LOTE 14 QD P|           CENTRO|73751469| GO|     9595| null|      null| null|      null|      null|   null|                null|             null|                     null|         DONEIR RODRIGUES ...|             2135|                         50|                      0.0|               1|                       null|\n",
      "|      28664|         1|     69|                          1|                null|                 2|             2004-08-28|                        0|                      null|null|              1994-08-08|              4672900|               8211300|               RUA|             ROCHA|   173|               null|     MEU CANTINHO| 8664650| SP|     7151|   19|  37134004| null|      null|      null|   null|CONTATO@CONCEITOS...|             null|                     null|         M ROCHA COML IMPO...|             2062|                         49|                 100000.0|               5|                       null|\n",
      "|      28759|         1|     82|                          1|                null|                 4|             2021-01-12|                       63|                      null|null|              1994-08-04|              1413401|       1413403,3292201|           AVENIDA|           SALINAS|   257|               null|BOSQUE EUCALIPTOS|12233590| SP|     7099| null|      null| null|      null|      null|   null|                null|             null|                     null|         LULETEF CONFECCAO...|             2062|                         49|                      0.0|               5|                       null|\n",
      "|      29194|         1|     58|                          1|      GRANJA RECANTO|                 8|             2013-06-11|                        1|                      null|null|              1994-08-24|              4729699|                  null|               RUA|                 A|  2447|               null|        VILA NOVA|19250000| SP|     7011| null|      null| null|      null|      null|   null|                null|             null|                     null|         MARIA DA SILVA FE...|             2135|                         50|                      0.0|               1|                       null|\n",
      "|      33717|         1|     30|                          1|                null|                 4|             2018-12-21|                       63|                      null|null|              1994-11-25|              9430800|       9493600,9499500|               RUA|     CHICO BUQUIRA|   876|               null|RESID GALO BRANCO|12247550| SP|     7099|  012|  97633382| null|      null|      null|   null|                null|             null|                     null|         SOCIEDADE AMIGOS ...|             3999|                         16|                      0.0|               5|                       null|\n",
      "|      38422|         1|     56|                          1|      SALAO MINISTER|                 8|             1978-05-02|                        1|                      null|null|              1967-01-13|              8888888|                  null|              null|      QNE  25 LOTE|    20|            LOJA 02|       TAGUATINGA|71920540| DF|     9701| null|      null| null|      null|      null|   null|                null|             null|                     null|         SEBASTIAO ALVES D...|             4014|                         34|                      0.0|               5|                       null|\n",
      "|      47217|         1|     57|                          1|                null|                 4|             2018-08-28|                       63|                      null|null|              1982-03-11|              4299599|               4399199|               RUA|               603|   485|               null|        VL S JOSE|74440480| GO|     9373| null|      null| null|      null|      null|   null|                null|             null|                     null|         ITAPOA IMOBILIARI...|             2062|                         49|                      0.0|               1|                       null|\n",
      "|      56054|         1|     79|                          1|   DOCE VIDA SALGADA|                 4|             2018-10-18|                       63|                      null|null|              1994-04-28|              5611203|                  null|           AVENIDA|         BEIRA RIO|   S/N|               null|    JARDIM EUROPA|78070200| MT|     9067| null|      null| null|      null|      null|   null|                null|             null|                     null|         MARTA XAVIER DA S...|             2135|                         50|                      0.0|               1|                       null|\n",
      "+-----------+----------+-------+---------------------------+--------------------+------------------+-----------------------+-------------------------+--------------------------+----+------------------------+---------------------+----------------------+------------------+------------------+------+-------------------+-----------------+--------+---+---------+-----+----------+-----+----------+----------+-------+--------------------+-----------------+-------------------------+-----------------------------+-----------------+---------------------------+-------------------------+----------------+---------------------------+\n",
      "only showing top 20 rows\n",
      "\n"
     ]
    },
    {
     "name": "stderr",
     "output_type": "stream",
     "text": [
      "                                                                                \r"
     ]
    }
   ],
   "source": [
    "empresas_join.show()"
   ]
  },
  {
   "cell_type": "code",
   "execution_count": 71,
   "metadata": {},
   "outputs": [],
   "source": [
    "freq = empresas_join\\\n",
    "    .select(\n",
    "        'cnpj_basico',\n",
    "        f.year('data_de_inicio_atividade').alias('ano_de_inicio')\n",
    "    )\\\n",
    "    .where('ano_de_inicio >= 2010')\\\n",
    "    .groupBy('ano_de_inicio')\\\n",
    "    .agg(f.count(\"cnpj_basico\").alias(\"frequencia\"))\\\n",
    "    .orderBy('ano_de_inicio',ascending=True)"
   ]
  },
  {
   "cell_type": "code",
   "execution_count": 74,
   "metadata": {},
   "outputs": [
    {
     "data": {
      "text/html": [
       "<div>\n",
       "<style scoped>\n",
       "    .dataframe tbody tr th:only-of-type {\n",
       "        vertical-align: middle;\n",
       "    }\n",
       "\n",
       "    .dataframe tbody tr th {\n",
       "        vertical-align: top;\n",
       "    }\n",
       "\n",
       "    .dataframe thead th {\n",
       "        text-align: right;\n",
       "    }\n",
       "</style>\n",
       "<table border=\"1\" class=\"dataframe\">\n",
       "  <thead>\n",
       "    <tr style=\"text-align: right;\">\n",
       "      <th></th>\n",
       "      <th>ano_de_inicio</th>\n",
       "      <th>frequencia</th>\n",
       "    </tr>\n",
       "  </thead>\n",
       "  <tbody>\n",
       "    <tr>\n",
       "      <th>0</th>\n",
       "      <td>2010</td>\n",
       "      <td>154159</td>\n",
       "    </tr>\n",
       "    <tr>\n",
       "      <th>1</th>\n",
       "      <td>2011</td>\n",
       "      <td>172677</td>\n",
       "    </tr>\n",
       "    <tr>\n",
       "      <th>2</th>\n",
       "      <td>2012</td>\n",
       "      <td>232480</td>\n",
       "    </tr>\n",
       "    <tr>\n",
       "      <th>3</th>\n",
       "      <td>2013</td>\n",
       "      <td>198424</td>\n",
       "    </tr>\n",
       "    <tr>\n",
       "      <th>4</th>\n",
       "      <td>2014</td>\n",
       "      <td>202276</td>\n",
       "    </tr>\n",
       "    <tr>\n",
       "      <th>5</th>\n",
       "      <td>2015</td>\n",
       "      <td>212523</td>\n",
       "    </tr>\n",
       "    <tr>\n",
       "      <th>6</th>\n",
       "      <td>2016</td>\n",
       "      <td>265417</td>\n",
       "    </tr>\n",
       "    <tr>\n",
       "      <th>7</th>\n",
       "      <td>2017</td>\n",
       "      <td>237292</td>\n",
       "    </tr>\n",
       "    <tr>\n",
       "      <th>8</th>\n",
       "      <td>2018</td>\n",
       "      <td>275435</td>\n",
       "    </tr>\n",
       "    <tr>\n",
       "      <th>9</th>\n",
       "      <td>2019</td>\n",
       "      <td>325922</td>\n",
       "    </tr>\n",
       "    <tr>\n",
       "      <th>10</th>\n",
       "      <td>2020</td>\n",
       "      <td>400654</td>\n",
       "    </tr>\n",
       "    <tr>\n",
       "      <th>11</th>\n",
       "      <td>2021</td>\n",
       "      <td>153275</td>\n",
       "    </tr>\n",
       "  </tbody>\n",
       "</table>\n",
       "</div>"
      ],
      "text/plain": [
       "    ano_de_inicio  frequencia\n",
       "0            2010      154159\n",
       "1            2011      172677\n",
       "2            2012      232480\n",
       "3            2013      198424\n",
       "4            2014      202276\n",
       "5            2015      212523\n",
       "6            2016      265417\n",
       "7            2017      237292\n",
       "8            2018      275435\n",
       "9            2019      325922\n",
       "10           2020      400654\n",
       "11           2021      153275"
      ]
     },
     "execution_count": 74,
     "metadata": {},
     "output_type": "execute_result"
    }
   ],
   "source": [
    "freq.toPandas()"
   ]
  },
  {
   "cell_type": "code",
   "execution_count": 75,
   "metadata": {},
   "outputs": [
    {
     "name": "stderr",
     "output_type": "stream",
     "text": [
      "                                                                                \r"
     ]
    },
    {
     "name": "stdout",
     "output_type": "stream",
     "text": [
      "+-------------+----------+\n",
      "|ano_de_inicio|frequencia|\n",
      "+-------------+----------+\n",
      "|         2010|    154159|\n",
      "|         2011|    172677|\n",
      "|         2012|    232480|\n",
      "|         2013|    198424|\n",
      "|         2014|    202276|\n",
      "|         2015|    212523|\n",
      "|         2016|    265417|\n",
      "|         2017|    237292|\n",
      "|         2018|    275435|\n",
      "|         2019|    325922|\n",
      "|         2020|    400654|\n",
      "|         2021|    153275|\n",
      "|        Total|   2830534|\n",
      "+-------------+----------+\n",
      "\n"
     ]
    }
   ],
   "source": [
    "freq.union(\n",
    "    freq.select(\n",
    "        f.lit('Total').alias('ano_de_inicio'),\n",
    "        f.sum(freq.frequencia).alias('frequencia')\n",
    "    )\n",
    ").show()"
   ]
  },
  {
   "cell_type": "markdown",
   "metadata": {},
   "source": [
    "## SparkSQL"
   ]
  },
  {
   "cell_type": "code",
   "execution_count": 76,
   "metadata": {},
   "outputs": [],
   "source": [
    "empresas.createOrReplaceTempView(\"vw_empresas\")"
   ]
  },
  {
   "cell_type": "code",
   "execution_count": 82,
   "metadata": {},
   "outputs": [
    {
     "name": "stdout",
     "output_type": "stream",
     "text": [
      "+-----------+-----------------------------+-----------------+---------------------------+-------------------------+----------------+---------------------------+\n",
      "|cnpj_basico|razao_social_nome_empresarial|natureza_juridica|qualificacao_do_responsavel|capital_social_da_empresa|porte_da_empresa|ente_federativo_responsavel|\n",
      "+-----------+-----------------------------+-----------------+---------------------------+-------------------------+----------------+---------------------------+\n",
      "|   19407586|         MARIA EDILMA DOS ...|             2135|                         50|                    150.0|               1|                       null|\n",
      "|   21496910|         ELISANDRO AGUIAR ...|             2135|                         50|                    150.0|               1|                       null|\n",
      "|   23840595|         LUAN FELIPE SANTO...|             2135|                         50|                    150.0|               1|                       null|\n",
      "|   27200540|         ROBSON HELIO DO N...|             2135|                         50|                    150.0|               1|                       null|\n",
      "|   32429754|         GILEIDE FERREIRA ...|             2135|                         50|                    150.0|               1|                       null|\n",
      "|   36464304|         ELIENE MARIA DA C...|             2135|                         50|                    150.0|               1|                       null|\n",
      "|   37629502|         LIVIA SOUZA ALVES...|             2135|                         50|                    150.0|               1|                       null|\n",
      "|   40148020|         RAFAEL PERICLES R...|             2135|                         50|                    150.0|               1|                       null|\n",
      "|   40821628|         ALDERICO SANTOS D...|             2135|                         50|                    150.0|               1|                       null|\n",
      "|   17551969|         MARCIA APARECIDA ...|             2135|                         50|                    150.0|               1|                       null|\n",
      "+-----------+-----------------------------+-----------------+---------------------------+-------------------------+----------------+---------------------------+\n",
      "only showing top 10 rows\n",
      "\n"
     ]
    }
   ],
   "source": [
    "spark.sql(\"\"\"\n",
    "        SELECT * \n",
    "        FROM vw_empresas\n",
    "        WHERE capital_social_da_empresa = 150 \"\"\")\\\n",
    "        .show(10)"
   ]
  },
  {
   "cell_type": "code",
   "execution_count": 85,
   "metadata": {},
   "outputs": [
    {
     "name": "stderr",
     "output_type": "stream",
     "text": [
      "[Stage 112:============================================>           (8 + 2) / 10]\r"
     ]
    },
    {
     "name": "stdout",
     "output_type": "stream",
     "text": [
      "+----------------+------------------+\n",
      "|porte_da_empresa|             Media|\n",
      "+----------------+------------------+\n",
      "|            null|  8.35421888053467|\n",
      "|               1|339994.53313507047|\n",
      "|               3|2601001.7677092687|\n",
      "|               5| 708660.4208249793|\n",
      "+----------------+------------------+\n",
      "\n"
     ]
    },
    {
     "name": "stderr",
     "output_type": "stream",
     "text": [
      "                                                                                \r"
     ]
    }
   ],
   "source": [
    "spark.sql(\"\"\"\n",
    "        SELECT porte_da_empresa, MEAN(capital_social_da_empresa) as Media\n",
    "        FROM vw_empresas\n",
    "        GROUP BY porte_da_empresa \"\"\")\\\n",
    "        .show()"
   ]
  },
  {
   "cell_type": "code",
   "execution_count": 95,
   "metadata": {},
   "outputs": [],
   "source": [
    "empresas_join.createOrReplaceTempView(\"empresasJoinView\")"
   ]
  },
  {
   "cell_type": "code",
   "execution_count": 98,
   "metadata": {},
   "outputs": [
    {
     "name": "stderr",
     "output_type": "stream",
     "text": [
      "[Stage 128:============================================>        (168 + 8) / 200]\r"
     ]
    },
    {
     "name": "stdout",
     "output_type": "stream",
     "text": [
      "+--------------+------+\n",
      "|data_de_inicio| count|\n",
      "+--------------+------+\n",
      "|          2010|154159|\n",
      "|          2011|172677|\n",
      "|          2012|232480|\n",
      "|          2013|198424|\n",
      "|          2014|202276|\n",
      "|          2015|212523|\n",
      "|          2016|265417|\n",
      "|          2017|237292|\n",
      "|          2018|275435|\n",
      "|          2019|325922|\n",
      "|          2020|400654|\n",
      "|          2021|153275|\n",
      "+--------------+------+\n",
      "\n"
     ]
    },
    {
     "name": "stderr",
     "output_type": "stream",
     "text": [
      "                                                                                \r"
     ]
    }
   ],
   "source": [
    "freq = spark\\\n",
    "    .sql(\"\"\"\n",
    "        SELECT YEAR(data_de_inicio_atividade) AS data_de_inicio, COUNT(cnpj_basico) AS count\n",
    "            FROM empresasJoinView \n",
    "            WHERE YEAR(data_de_inicio_atividade) >= 2010\n",
    "            GROUP BY data_de_inicio\n",
    "            ORDER BY data_de_inicio\n",
    "    \"\"\")\n",
    "\n",
    "freq\\\n",
    "    .show()"
   ]
  },
  {
   "cell_type": "code",
   "execution_count": 104,
   "metadata": {},
   "outputs": [],
   "source": [
    "freq.createOrReplaceTempView(\"freqView\")"
   ]
  },
  {
   "cell_type": "code",
   "execution_count": 105,
   "metadata": {},
   "outputs": [
    {
     "name": "stderr",
     "output_type": "stream",
     "text": [
      "                                                                                \r"
     ]
    },
    {
     "name": "stdout",
     "output_type": "stream",
     "text": [
      "+--------------+-------+\n",
      "|data_de_inicio|  count|\n",
      "+--------------+-------+\n",
      "|          2010| 154159|\n",
      "|          2011| 172677|\n",
      "|          2012| 232480|\n",
      "|          2013| 198424|\n",
      "|          2014| 202276|\n",
      "|          2015| 212523|\n",
      "|          2016| 265417|\n",
      "|          2017| 237292|\n",
      "|          2018| 275435|\n",
      "|          2019| 325922|\n",
      "|          2020| 400654|\n",
      "|          2021| 153275|\n",
      "|         Total|2830534|\n",
      "+--------------+-------+\n",
      "\n"
     ]
    }
   ],
   "source": [
    "spark\\\n",
    "    .sql(\"\"\"\n",
    "        SELECT *\n",
    "            FROM freqView\n",
    "        UNION ALL\n",
    "        SELECT 'Total' AS data_de_inicio, SUM(count) AS count\n",
    "            FROM freqView\n",
    "    \"\"\")\\\n",
    "    .show()"
   ]
  },
  {
   "cell_type": "markdown",
   "metadata": {},
   "source": [
    "## Formas de Armazenamento"
   ]
  },
  {
   "cell_type": "markdown",
   "metadata": {},
   "source": [
    "### csv"
   ]
  },
  {
   "cell_type": "code",
   "execution_count": null,
   "metadata": {},
   "outputs": [
    {
     "name": "stderr",
     "output_type": "stream",
     "text": [
      "                                                                                \r"
     ]
    }
   ],
   "source": [
    "empresas.write.csv(\n",
    "    path = \"/home/lpimenta/estudoPySpark/datasets/empresas/consolidado/csv\",\n",
    "    mode = 'overwrite',\n",
    "    sep = \";\",\n",
    "    header = True\n",
    ")\n",
    "\n",
    "empresas2 = spark.read.csv(\n",
    "    \"/home/lpimenta/estudoPySpark/datasets/empresas/consolidado/csv\",\n",
    "    sep = ';',\n",
    "    inferSchema = True,\n",
    "    header=True)"
   ]
  },
  {
   "cell_type": "code",
   "execution_count": null,
   "metadata": {},
   "outputs": [
    {
     "name": "stderr",
     "output_type": "stream",
     "text": [
      "                                                                                \r"
     ]
    }
   ],
   "source": [
    "estabelecimentos.write.csv(\n",
    "    path = \"/home/lpimenta/estudoPySpark/datasets/estabelecimentos/consolidado/csv\",\n",
    "    mode = 'overwrite',\n",
    "    sep = \";\",\n",
    "    header = True\n",
    ")\n",
    "\n",
    "estabelecimentos2 = spark.read.csv(\n",
    "    \"/home/lpimenta/estudoPySpark/datasets/estabelecimentos/consolidado/csv\",\n",
    "    sep = ';',\n",
    "    inferSchema = True,\n",
    "    header=True)"
   ]
  },
  {
   "cell_type": "code",
   "execution_count": 113,
   "metadata": {},
   "outputs": [
    {
     "name": "stderr",
     "output_type": "stream",
     "text": [
      "                                                                                \r"
     ]
    }
   ],
   "source": [
    "socios.write.csv(\n",
    "    path = \"/home/lpimenta/estudoPySpark/datasets/socios/consolidado/csv\",\n",
    "    mode = 'overwrite',\n",
    "    sep = \";\",\n",
    "    header = True\n",
    ")\n",
    "\n",
    "socios2 = spark.read.csv(\n",
    "    \"/home/lpimenta/estudoPySpark/datasets/socios/consolidado/csv\",\n",
    "    sep = ';',\n",
    "    inferSchema = True,\n",
    "    header=True)"
   ]
  },
  {
   "cell_type": "markdown",
   "metadata": {},
   "source": [
    "### parquet"
   ]
  },
  {
   "cell_type": "code",
   "execution_count": 122,
   "metadata": {},
   "outputs": [],
   "source": [
    "spark.conf.set(\"spark.sql.legacy.parquet.datetimeRebaseModeInWrite\", \"CORRECTED\")"
   ]
  },
  {
   "cell_type": "code",
   "execution_count": null,
   "metadata": {},
   "outputs": [
    {
     "name": "stdout",
     "output_type": "stream",
     "text": [
      "root\n",
      " |-- cnpj_basico: integer (nullable = true)\n",
      " |-- razao_social_nome_empresarial: string (nullable = true)\n",
      " |-- natureza_juridica: integer (nullable = true)\n",
      " |-- qualificacao_do_responsavel: integer (nullable = true)\n",
      " |-- capital_social_da_empresa: double (nullable = true)\n",
      " |-- porte_da_empresa: integer (nullable = true)\n",
      " |-- ente_federativo_responsavel: string (nullable = true)\n",
      "\n"
     ]
    }
   ],
   "source": [
    "empresas.write.parquet(\n",
    "    path = \"/home/lpimenta/estudoPySpark/datasets/empresas/consolidado/parquet\",\n",
    "    mode = 'overwrite'\n",
    ")\n",
    "\n",
    "empresas_parquet = spark.read.parquet(\n",
    "    \"/home/lpimenta/estudoPySpark/datasets/empresas/consolidado/parquet\"\n",
    ")\n",
    "empresas_parquet.printSchema()"
   ]
  },
  {
   "cell_type": "code",
   "execution_count": null,
   "metadata": {},
   "outputs": [
    {
     "name": "stdout",
     "output_type": "stream",
     "text": [
      "root\n",
      " |-- cnpj_basico: integer (nullable = true)\n",
      " |-- cnpj_ordem: integer (nullable = true)\n",
      " |-- cnpj_dv: integer (nullable = true)\n",
      " |-- identificador_matriz_filial: integer (nullable = true)\n",
      " |-- nome_fantasia: string (nullable = true)\n",
      " |-- situacao_cadastral: integer (nullable = true)\n",
      " |-- data_situacao_cadastral: date (nullable = true)\n",
      " |-- motivo_situacao_cadastral: integer (nullable = true)\n",
      " |-- nome_da_cidade_no_exterior: string (nullable = true)\n",
      " |-- pais: integer (nullable = true)\n",
      " |-- data_de_inicio_atividade: date (nullable = true)\n",
      " |-- cnae_fiscal_principal: integer (nullable = true)\n",
      " |-- cnae_fiscal_secundaria: string (nullable = true)\n",
      " |-- tipo_de_logradouro: string (nullable = true)\n",
      " |-- logradouro: string (nullable = true)\n",
      " |-- numero: string (nullable = true)\n",
      " |-- complemento: string (nullable = true)\n",
      " |-- bairro: string (nullable = true)\n",
      " |-- cep: integer (nullable = true)\n",
      " |-- uf: string (nullable = true)\n",
      " |-- municipio: integer (nullable = true)\n",
      " |-- ddd_1: string (nullable = true)\n",
      " |-- telefone_1: string (nullable = true)\n",
      " |-- ddd_2: string (nullable = true)\n",
      " |-- telefone_2: string (nullable = true)\n",
      " |-- ddd_do_fax: integer (nullable = true)\n",
      " |-- fax: string (nullable = true)\n",
      " |-- correio_eletronico: string (nullable = true)\n",
      " |-- situacao_especial: string (nullable = true)\n",
      " |-- data_da_situacao_especial: date (nullable = true)\n",
      "\n"
     ]
    }
   ],
   "source": [
    "estabelecimentos.write.parquet(\n",
    "    \"/home/lpimenta/estudoPySpark/datasets/estabelecimentos/consolidado/parquet\",\n",
    "    mode = 'overwrite'\n",
    ")\n",
    "\n",
    "estabelecimentos_parquet = spark.read.parquet(\n",
    "    \"/home/lpimenta/estudoPySpark/datasets/estabelecimentos/consolidado/parquet\"\n",
    ")\n",
    "estabelecimentos_parquet.printSchema()"
   ]
  },
  {
   "cell_type": "code",
   "execution_count": null,
   "metadata": {},
   "outputs": [
    {
     "name": "stdout",
     "output_type": "stream",
     "text": [
      "root\n",
      " |-- cnpj_basico: integer (nullable = true)\n",
      " |-- identificador_de_socio: integer (nullable = true)\n",
      " |-- nome_do_socio_ou_razao_social: string (nullable = true)\n",
      " |-- cnpj_ou_cpf_do_socio: string (nullable = true)\n",
      " |-- qualificacao_do_socio: integer (nullable = true)\n",
      " |-- data_de_entrada_sociedade: date (nullable = true)\n",
      " |-- pais: integer (nullable = true)\n",
      " |-- representante_legal: string (nullable = true)\n",
      " |-- nome_do_representante: string (nullable = true)\n",
      " |-- qualificacao_do_representante_legal: integer (nullable = true)\n",
      " |-- faixa_etaria: integer (nullable = true)\n",
      "\n"
     ]
    }
   ],
   "source": [
    "socios.write.parquet(\n",
    "    \"/home/lpimenta/estudoPySpark/datasets/socios/consolidado/parquet\",\n",
    "    mode = 'overwrite'\n",
    ")\n",
    "\n",
    "socios_parquet = spark.read.parquet(\n",
    "    \"/home/lpimenta/estudoPySpark/datasets/socios/consolidado/parquet\"\n",
    ")\n",
    "socios_parquet.printSchema()"
   ]
  },
  {
   "cell_type": "markdown",
   "metadata": {},
   "source": [
    "### Particionamento de dados"
   ]
  },
  {
   "cell_type": "code",
   "execution_count": null,
   "metadata": {},
   "outputs": [
    {
     "name": "stderr",
     "output_type": "stream",
     "text": [
      "                                                                                \r"
     ]
    }
   ],
   "source": [
    "#Unificando arquivos\n",
    "empresas.coalesce(1).write.csv(\n",
    "    path = \"/home/lpimenta/estudoPySpark/datasets/empresas/consolidado/csv-unico\",\n",
    "    mode = \"overwrite\",\n",
    "    sep = \";\",\n",
    "    header = True\n",
    ")"
   ]
  },
  {
   "cell_type": "code",
   "execution_count": null,
   "metadata": {},
   "outputs": [
    {
     "name": "stderr",
     "output_type": "stream",
     "text": [
      "25/02/13 22:57:14 WARN MemoryManager: Total allocation exceeds 95.00% (906,992,014 bytes) of heap memory\n",
      "Scaling row group sizes to 96.54% for 7 writers\n",
      "25/02/13 22:57:14 WARN MemoryManager: Total allocation exceeds 95.00% (906,992,014 bytes) of heap memory\n",
      "Scaling row group sizes to 84.47% for 8 writers\n",
      "25/02/13 22:57:14 WARN MemoryManager: Total allocation exceeds 95.00% (906,992,014 bytes) of heap memory\n",
      "Scaling row group sizes to 96.54% for 7 writers\n",
      "25/02/13 22:57:14 WARN MemoryManager: Total allocation exceeds 95.00% (906,992,014 bytes) of heap memory\n",
      "Scaling row group sizes to 96.54% for 7 writers\n",
      "25/02/13 22:57:14 WARN MemoryManager: Total allocation exceeds 95.00% (906,992,014 bytes) of heap memory\n",
      "Scaling row group sizes to 84.47% for 8 writers\n",
      "25/02/13 22:57:15 WARN MemoryManager: Total allocation exceeds 95.00% (906,992,014 bytes) of heap memory\n",
      "Scaling row group sizes to 96.54% for 7 writers\n",
      "25/02/13 22:57:15 WARN MemoryManager: Total allocation exceeds 95.00% (906,992,014 bytes) of heap memory\n",
      "Scaling row group sizes to 96.54% for 7 writers\n",
      "25/02/13 22:57:15 WARN MemoryManager: Total allocation exceeds 95.00% (906,992,014 bytes) of heap memory\n",
      "Scaling row group sizes to 96.54% for 7 writers\n",
      "25/02/13 22:57:15 WARN MemoryManager: Total allocation exceeds 95.00% (906,992,014 bytes) of heap memory\n",
      "Scaling row group sizes to 84.47% for 8 writers\n",
      "25/02/13 22:57:15 WARN MemoryManager: Total allocation exceeds 95.00% (906,992,014 bytes) of heap memory\n",
      "Scaling row group sizes to 96.54% for 7 writers\n",
      "                                                                                \r"
     ]
    }
   ],
   "source": [
    "#particionando dados por coluna\n",
    "empresas.write.parquet(\n",
    "    path = \"/home/lpimenta/estudoPySpark/datasets/empresas/consolidado/parquet-partitionBy\",\n",
    "    mode = \"overwrite\",\n",
    "    partitionBy = \"porte_da_empresa\"\n",
    ")"
   ]
  },
  {
   "cell_type": "markdown",
   "metadata": {},
   "source": [
    "## Finalizando sessão Spark"
   ]
  },
  {
   "cell_type": "code",
   "execution_count": 133,
   "metadata": {},
   "outputs": [],
   "source": [
    "spark.stop()"
   ]
  }
 ],
 "metadata": {
  "kernelspec": {
   "display_name": "Python 3",
   "language": "python",
   "name": "python3"
  },
  "language_info": {
   "codemirror_mode": {
    "name": "ipython",
    "version": 3
   },
   "file_extension": ".py",
   "mimetype": "text/x-python",
   "name": "python",
   "nbconvert_exporter": "python",
   "pygments_lexer": "ipython3",
   "version": "3.10.12"
  }
 },
 "nbformat": 4,
 "nbformat_minor": 2
}
